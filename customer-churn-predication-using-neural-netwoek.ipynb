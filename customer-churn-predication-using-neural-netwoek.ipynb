{
 "cells": [
  {
   "cell_type": "code",
   "execution_count": 1,
   "id": "942dbab6",
   "metadata": {
    "_cell_guid": "b1076dfc-b9ad-4769-8c92-a6c4dae69d19",
    "_uuid": "8f2839f25d086af736a60e9eeb907d3b93b6e0e5",
    "execution": {
     "iopub.execute_input": "2025-07-05T09:35:52.818748Z",
     "iopub.status.busy": "2025-07-05T09:35:52.818377Z",
     "iopub.status.idle": "2025-07-05T09:35:54.761001Z",
     "shell.execute_reply": "2025-07-05T09:35:54.759804Z"
    },
    "papermill": {
     "duration": 1.952034,
     "end_time": "2025-07-05T09:35:54.762570",
     "exception": false,
     "start_time": "2025-07-05T09:35:52.810536",
     "status": "completed"
    },
    "tags": []
   },
   "outputs": [
    {
     "name": "stdout",
     "output_type": "stream",
     "text": [
      "/kaggle/input/credit-card-customer-churn-prediction/Churn_Modelling.csv\n"
     ]
    }
   ],
   "source": [
    "# This Python 3 environment comes with many helpful analytics libraries installed\n",
    "# It is defined by the kaggle/python Docker image: https://github.com/kaggle/docker-python\n",
    "# For example, here's several helpful packages to load\n",
    "\n",
    "import numpy as np # linear algebra\n",
    "import pandas as pd # data processing, CSV file I/O (e.g. pd.read_csv)\n",
    "\n",
    "# Input data files are available in the read-only \"../input/\" directory\n",
    "# For example, running this (by clicking run or pressing Shift+Enter) will list all files under the input directory\n",
    "\n",
    "import os\n",
    "for dirname, _, filenames in os.walk('/kaggle/input'):\n",
    "    for filename in filenames:\n",
    "        print(os.path.join(dirname, filename))\n",
    "\n",
    "# You can write up to 20GB to the current directory (/kaggle/working/) that gets preserved as output when you create a version using \"Save & Run All\" \n",
    "# You can also write temporary files to /kaggle/temp/, but they won't be saved outside of the current session"
   ]
  },
  {
   "cell_type": "code",
   "execution_count": 2,
   "id": "1849302c",
   "metadata": {
    "execution": {
     "iopub.execute_input": "2025-07-05T09:35:54.774420Z",
     "iopub.status.busy": "2025-07-05T09:35:54.773954Z",
     "iopub.status.idle": "2025-07-05T09:35:54.847803Z",
     "shell.execute_reply": "2025-07-05T09:35:54.846817Z"
    },
    "papermill": {
     "duration": 0.081917,
     "end_time": "2025-07-05T09:35:54.849724",
     "exception": false,
     "start_time": "2025-07-05T09:35:54.767807",
     "status": "completed"
    },
    "tags": []
   },
   "outputs": [],
   "source": [
    "df = pd.read_csv(\"/kaggle/input/credit-card-customer-churn-prediction/Churn_Modelling.csv\")"
   ]
  },
  {
   "cell_type": "code",
   "execution_count": 3,
   "id": "61195f3a",
   "metadata": {
    "execution": {
     "iopub.execute_input": "2025-07-05T09:35:54.861944Z",
     "iopub.status.busy": "2025-07-05T09:35:54.861573Z",
     "iopub.status.idle": "2025-07-05T09:35:54.889828Z",
     "shell.execute_reply": "2025-07-05T09:35:54.888853Z"
    },
    "papermill": {
     "duration": 0.036246,
     "end_time": "2025-07-05T09:35:54.891508",
     "exception": false,
     "start_time": "2025-07-05T09:35:54.855262",
     "status": "completed"
    },
    "tags": []
   },
   "outputs": [
    {
     "data": {
      "text/html": [
       "<div>\n",
       "<style scoped>\n",
       "    .dataframe tbody tr th:only-of-type {\n",
       "        vertical-align: middle;\n",
       "    }\n",
       "\n",
       "    .dataframe tbody tr th {\n",
       "        vertical-align: top;\n",
       "    }\n",
       "\n",
       "    .dataframe thead th {\n",
       "        text-align: right;\n",
       "    }\n",
       "</style>\n",
       "<table border=\"1\" class=\"dataframe\">\n",
       "  <thead>\n",
       "    <tr style=\"text-align: right;\">\n",
       "      <th></th>\n",
       "      <th>RowNumber</th>\n",
       "      <th>CustomerId</th>\n",
       "      <th>Surname</th>\n",
       "      <th>CreditScore</th>\n",
       "      <th>Geography</th>\n",
       "      <th>Gender</th>\n",
       "      <th>Age</th>\n",
       "      <th>Tenure</th>\n",
       "      <th>Balance</th>\n",
       "      <th>NumOfProducts</th>\n",
       "      <th>HasCrCard</th>\n",
       "      <th>IsActiveMember</th>\n",
       "      <th>EstimatedSalary</th>\n",
       "      <th>Exited</th>\n",
       "    </tr>\n",
       "  </thead>\n",
       "  <tbody>\n",
       "    <tr>\n",
       "      <th>0</th>\n",
       "      <td>1</td>\n",
       "      <td>15634602</td>\n",
       "      <td>Hargrave</td>\n",
       "      <td>619</td>\n",
       "      <td>France</td>\n",
       "      <td>Female</td>\n",
       "      <td>42</td>\n",
       "      <td>2</td>\n",
       "      <td>0.00</td>\n",
       "      <td>1</td>\n",
       "      <td>1</td>\n",
       "      <td>1</td>\n",
       "      <td>101348.88</td>\n",
       "      <td>1</td>\n",
       "    </tr>\n",
       "    <tr>\n",
       "      <th>1</th>\n",
       "      <td>2</td>\n",
       "      <td>15647311</td>\n",
       "      <td>Hill</td>\n",
       "      <td>608</td>\n",
       "      <td>Spain</td>\n",
       "      <td>Female</td>\n",
       "      <td>41</td>\n",
       "      <td>1</td>\n",
       "      <td>83807.86</td>\n",
       "      <td>1</td>\n",
       "      <td>0</td>\n",
       "      <td>1</td>\n",
       "      <td>112542.58</td>\n",
       "      <td>0</td>\n",
       "    </tr>\n",
       "    <tr>\n",
       "      <th>2</th>\n",
       "      <td>3</td>\n",
       "      <td>15619304</td>\n",
       "      <td>Onio</td>\n",
       "      <td>502</td>\n",
       "      <td>France</td>\n",
       "      <td>Female</td>\n",
       "      <td>42</td>\n",
       "      <td>8</td>\n",
       "      <td>159660.80</td>\n",
       "      <td>3</td>\n",
       "      <td>1</td>\n",
       "      <td>0</td>\n",
       "      <td>113931.57</td>\n",
       "      <td>1</td>\n",
       "    </tr>\n",
       "    <tr>\n",
       "      <th>3</th>\n",
       "      <td>4</td>\n",
       "      <td>15701354</td>\n",
       "      <td>Boni</td>\n",
       "      <td>699</td>\n",
       "      <td>France</td>\n",
       "      <td>Female</td>\n",
       "      <td>39</td>\n",
       "      <td>1</td>\n",
       "      <td>0.00</td>\n",
       "      <td>2</td>\n",
       "      <td>0</td>\n",
       "      <td>0</td>\n",
       "      <td>93826.63</td>\n",
       "      <td>0</td>\n",
       "    </tr>\n",
       "    <tr>\n",
       "      <th>4</th>\n",
       "      <td>5</td>\n",
       "      <td>15737888</td>\n",
       "      <td>Mitchell</td>\n",
       "      <td>850</td>\n",
       "      <td>Spain</td>\n",
       "      <td>Female</td>\n",
       "      <td>43</td>\n",
       "      <td>2</td>\n",
       "      <td>125510.82</td>\n",
       "      <td>1</td>\n",
       "      <td>1</td>\n",
       "      <td>1</td>\n",
       "      <td>79084.10</td>\n",
       "      <td>0</td>\n",
       "    </tr>\n",
       "  </tbody>\n",
       "</table>\n",
       "</div>"
      ],
      "text/plain": [
       "   RowNumber  CustomerId   Surname  CreditScore Geography  Gender  Age  \\\n",
       "0          1    15634602  Hargrave          619    France  Female   42   \n",
       "1          2    15647311      Hill          608     Spain  Female   41   \n",
       "2          3    15619304      Onio          502    France  Female   42   \n",
       "3          4    15701354      Boni          699    France  Female   39   \n",
       "4          5    15737888  Mitchell          850     Spain  Female   43   \n",
       "\n",
       "   Tenure    Balance  NumOfProducts  HasCrCard  IsActiveMember  \\\n",
       "0       2       0.00              1          1               1   \n",
       "1       1   83807.86              1          0               1   \n",
       "2       8  159660.80              3          1               0   \n",
       "3       1       0.00              2          0               0   \n",
       "4       2  125510.82              1          1               1   \n",
       "\n",
       "   EstimatedSalary  Exited  \n",
       "0        101348.88       1  \n",
       "1        112542.58       0  \n",
       "2        113931.57       1  \n",
       "3         93826.63       0  \n",
       "4         79084.10       0  "
      ]
     },
     "execution_count": 3,
     "metadata": {},
     "output_type": "execute_result"
    }
   ],
   "source": [
    "df.head()"
   ]
  },
  {
   "cell_type": "code",
   "execution_count": 4,
   "id": "9a113f9e",
   "metadata": {
    "execution": {
     "iopub.execute_input": "2025-07-05T09:35:54.903534Z",
     "iopub.status.busy": "2025-07-05T09:35:54.903192Z",
     "iopub.status.idle": "2025-07-05T09:35:54.918120Z",
     "shell.execute_reply": "2025-07-05T09:35:54.917139Z"
    },
    "papermill": {
     "duration": 0.022922,
     "end_time": "2025-07-05T09:35:54.919665",
     "exception": false,
     "start_time": "2025-07-05T09:35:54.896743",
     "status": "completed"
    },
    "tags": []
   },
   "outputs": [],
   "source": [
    "df.drop([\"RowNumber\",\"CustomerId\",\"Surname\"],axis=1,inplace = True)"
   ]
  },
  {
   "cell_type": "code",
   "execution_count": 5,
   "id": "8fce7ab7",
   "metadata": {
    "execution": {
     "iopub.execute_input": "2025-07-05T09:35:54.931700Z",
     "iopub.status.busy": "2025-07-05T09:35:54.930791Z",
     "iopub.status.idle": "2025-07-05T09:35:54.942978Z",
     "shell.execute_reply": "2025-07-05T09:35:54.942064Z"
    },
    "papermill": {
     "duration": 0.019569,
     "end_time": "2025-07-05T09:35:54.944469",
     "exception": false,
     "start_time": "2025-07-05T09:35:54.924900",
     "status": "completed"
    },
    "tags": []
   },
   "outputs": [
    {
     "data": {
      "text/html": [
       "<div>\n",
       "<style scoped>\n",
       "    .dataframe tbody tr th:only-of-type {\n",
       "        vertical-align: middle;\n",
       "    }\n",
       "\n",
       "    .dataframe tbody tr th {\n",
       "        vertical-align: top;\n",
       "    }\n",
       "\n",
       "    .dataframe thead th {\n",
       "        text-align: right;\n",
       "    }\n",
       "</style>\n",
       "<table border=\"1\" class=\"dataframe\">\n",
       "  <thead>\n",
       "    <tr style=\"text-align: right;\">\n",
       "      <th></th>\n",
       "      <th>CreditScore</th>\n",
       "      <th>Geography</th>\n",
       "      <th>Gender</th>\n",
       "      <th>Age</th>\n",
       "      <th>Tenure</th>\n",
       "      <th>Balance</th>\n",
       "      <th>NumOfProducts</th>\n",
       "      <th>HasCrCard</th>\n",
       "      <th>IsActiveMember</th>\n",
       "      <th>EstimatedSalary</th>\n",
       "      <th>Exited</th>\n",
       "    </tr>\n",
       "  </thead>\n",
       "  <tbody>\n",
       "    <tr>\n",
       "      <th>0</th>\n",
       "      <td>619</td>\n",
       "      <td>France</td>\n",
       "      <td>Female</td>\n",
       "      <td>42</td>\n",
       "      <td>2</td>\n",
       "      <td>0.00</td>\n",
       "      <td>1</td>\n",
       "      <td>1</td>\n",
       "      <td>1</td>\n",
       "      <td>101348.88</td>\n",
       "      <td>1</td>\n",
       "    </tr>\n",
       "    <tr>\n",
       "      <th>1</th>\n",
       "      <td>608</td>\n",
       "      <td>Spain</td>\n",
       "      <td>Female</td>\n",
       "      <td>41</td>\n",
       "      <td>1</td>\n",
       "      <td>83807.86</td>\n",
       "      <td>1</td>\n",
       "      <td>0</td>\n",
       "      <td>1</td>\n",
       "      <td>112542.58</td>\n",
       "      <td>0</td>\n",
       "    </tr>\n",
       "    <tr>\n",
       "      <th>2</th>\n",
       "      <td>502</td>\n",
       "      <td>France</td>\n",
       "      <td>Female</td>\n",
       "      <td>42</td>\n",
       "      <td>8</td>\n",
       "      <td>159660.80</td>\n",
       "      <td>3</td>\n",
       "      <td>1</td>\n",
       "      <td>0</td>\n",
       "      <td>113931.57</td>\n",
       "      <td>1</td>\n",
       "    </tr>\n",
       "    <tr>\n",
       "      <th>3</th>\n",
       "      <td>699</td>\n",
       "      <td>France</td>\n",
       "      <td>Female</td>\n",
       "      <td>39</td>\n",
       "      <td>1</td>\n",
       "      <td>0.00</td>\n",
       "      <td>2</td>\n",
       "      <td>0</td>\n",
       "      <td>0</td>\n",
       "      <td>93826.63</td>\n",
       "      <td>0</td>\n",
       "    </tr>\n",
       "    <tr>\n",
       "      <th>4</th>\n",
       "      <td>850</td>\n",
       "      <td>Spain</td>\n",
       "      <td>Female</td>\n",
       "      <td>43</td>\n",
       "      <td>2</td>\n",
       "      <td>125510.82</td>\n",
       "      <td>1</td>\n",
       "      <td>1</td>\n",
       "      <td>1</td>\n",
       "      <td>79084.10</td>\n",
       "      <td>0</td>\n",
       "    </tr>\n",
       "  </tbody>\n",
       "</table>\n",
       "</div>"
      ],
      "text/plain": [
       "   CreditScore Geography  Gender  Age  Tenure    Balance  NumOfProducts  \\\n",
       "0          619    France  Female   42       2       0.00              1   \n",
       "1          608     Spain  Female   41       1   83807.86              1   \n",
       "2          502    France  Female   42       8  159660.80              3   \n",
       "3          699    France  Female   39       1       0.00              2   \n",
       "4          850     Spain  Female   43       2  125510.82              1   \n",
       "\n",
       "   HasCrCard  IsActiveMember  EstimatedSalary  Exited  \n",
       "0          1               1        101348.88       1  \n",
       "1          0               1        112542.58       0  \n",
       "2          1               0        113931.57       1  \n",
       "3          0               0         93826.63       0  \n",
       "4          1               1         79084.10       0  "
      ]
     },
     "execution_count": 5,
     "metadata": {},
     "output_type": "execute_result"
    }
   ],
   "source": [
    "df.head()"
   ]
  },
  {
   "cell_type": "code",
   "execution_count": 6,
   "id": "d35c8553",
   "metadata": {
    "execution": {
     "iopub.execute_input": "2025-07-05T09:35:54.956669Z",
     "iopub.status.busy": "2025-07-05T09:35:54.955749Z",
     "iopub.status.idle": "2025-07-05T09:35:54.970664Z",
     "shell.execute_reply": "2025-07-05T09:35:54.969776Z"
    },
    "papermill": {
     "duration": 0.022646,
     "end_time": "2025-07-05T09:35:54.972249",
     "exception": false,
     "start_time": "2025-07-05T09:35:54.949603",
     "status": "completed"
    },
    "tags": []
   },
   "outputs": [],
   "source": [
    "df = pd.get_dummies(df,columns=[\"Geography\",\"Gender\"],drop_first=True)"
   ]
  },
  {
   "cell_type": "code",
   "execution_count": 7,
   "id": "84e6464b",
   "metadata": {
    "execution": {
     "iopub.execute_input": "2025-07-05T09:35:54.984496Z",
     "iopub.status.busy": "2025-07-05T09:35:54.984165Z",
     "iopub.status.idle": "2025-07-05T09:35:56.498599Z",
     "shell.execute_reply": "2025-07-05T09:35:56.497632Z"
    },
    "papermill": {
     "duration": 1.522757,
     "end_time": "2025-07-05T09:35:56.500428",
     "exception": false,
     "start_time": "2025-07-05T09:35:54.977671",
     "status": "completed"
    },
    "tags": []
   },
   "outputs": [],
   "source": [
    "from sklearn.preprocessing import StandardScaler \n",
    "\n",
    "x = df.drop(\"Exited\",axis=1)\n",
    "y = df[\"Exited\"]"
   ]
  },
  {
   "cell_type": "code",
   "execution_count": 8,
   "id": "c73a6089",
   "metadata": {
    "execution": {
     "iopub.execute_input": "2025-07-05T09:35:56.512895Z",
     "iopub.status.busy": "2025-07-05T09:35:56.512389Z",
     "iopub.status.idle": "2025-07-05T09:35:56.668454Z",
     "shell.execute_reply": "2025-07-05T09:35:56.667362Z"
    },
    "papermill": {
     "duration": 0.164143,
     "end_time": "2025-07-05T09:35:56.670123",
     "exception": false,
     "start_time": "2025-07-05T09:35:56.505980",
     "status": "completed"
    },
    "tags": []
   },
   "outputs": [],
   "source": [
    "from sklearn.model_selection import train_test_split\n",
    "\n",
    "x_train,x_test,y_train,y_test = train_test_split(x,y,test_size = 0.2, random_state = 42)"
   ]
  },
  {
   "cell_type": "code",
   "execution_count": 9,
   "id": "fe8c2102",
   "metadata": {
    "execution": {
     "iopub.execute_input": "2025-07-05T09:35:56.682215Z",
     "iopub.status.busy": "2025-07-05T09:35:56.681825Z",
     "iopub.status.idle": "2025-07-05T09:35:56.698659Z",
     "shell.execute_reply": "2025-07-05T09:35:56.697847Z"
    },
    "papermill": {
     "duration": 0.024651,
     "end_time": "2025-07-05T09:35:56.700180",
     "exception": false,
     "start_time": "2025-07-05T09:35:56.675529",
     "status": "completed"
    },
    "tags": []
   },
   "outputs": [
    {
     "data": {
      "text/html": [
       "<div>\n",
       "<style scoped>\n",
       "    .dataframe tbody tr th:only-of-type {\n",
       "        vertical-align: middle;\n",
       "    }\n",
       "\n",
       "    .dataframe tbody tr th {\n",
       "        vertical-align: top;\n",
       "    }\n",
       "\n",
       "    .dataframe thead th {\n",
       "        text-align: right;\n",
       "    }\n",
       "</style>\n",
       "<table border=\"1\" class=\"dataframe\">\n",
       "  <thead>\n",
       "    <tr style=\"text-align: right;\">\n",
       "      <th></th>\n",
       "      <th>CreditScore</th>\n",
       "      <th>Age</th>\n",
       "      <th>Tenure</th>\n",
       "      <th>Balance</th>\n",
       "      <th>NumOfProducts</th>\n",
       "      <th>HasCrCard</th>\n",
       "      <th>IsActiveMember</th>\n",
       "      <th>EstimatedSalary</th>\n",
       "      <th>Geography_Germany</th>\n",
       "      <th>Geography_Spain</th>\n",
       "      <th>Gender_Male</th>\n",
       "    </tr>\n",
       "  </thead>\n",
       "  <tbody>\n",
       "    <tr>\n",
       "      <th>6252</th>\n",
       "      <td>596</td>\n",
       "      <td>32</td>\n",
       "      <td>3</td>\n",
       "      <td>96709.07</td>\n",
       "      <td>2</td>\n",
       "      <td>0</td>\n",
       "      <td>0</td>\n",
       "      <td>41788.37</td>\n",
       "      <td>True</td>\n",
       "      <td>False</td>\n",
       "      <td>True</td>\n",
       "    </tr>\n",
       "    <tr>\n",
       "      <th>4684</th>\n",
       "      <td>623</td>\n",
       "      <td>43</td>\n",
       "      <td>1</td>\n",
       "      <td>0.00</td>\n",
       "      <td>2</td>\n",
       "      <td>1</td>\n",
       "      <td>1</td>\n",
       "      <td>146379.30</td>\n",
       "      <td>False</td>\n",
       "      <td>False</td>\n",
       "      <td>True</td>\n",
       "    </tr>\n",
       "    <tr>\n",
       "      <th>1731</th>\n",
       "      <td>601</td>\n",
       "      <td>44</td>\n",
       "      <td>4</td>\n",
       "      <td>0.00</td>\n",
       "      <td>2</td>\n",
       "      <td>1</td>\n",
       "      <td>0</td>\n",
       "      <td>58561.31</td>\n",
       "      <td>False</td>\n",
       "      <td>True</td>\n",
       "      <td>False</td>\n",
       "    </tr>\n",
       "    <tr>\n",
       "      <th>4742</th>\n",
       "      <td>506</td>\n",
       "      <td>59</td>\n",
       "      <td>8</td>\n",
       "      <td>119152.10</td>\n",
       "      <td>2</td>\n",
       "      <td>1</td>\n",
       "      <td>1</td>\n",
       "      <td>170679.74</td>\n",
       "      <td>True</td>\n",
       "      <td>False</td>\n",
       "      <td>True</td>\n",
       "    </tr>\n",
       "    <tr>\n",
       "      <th>4521</th>\n",
       "      <td>560</td>\n",
       "      <td>27</td>\n",
       "      <td>7</td>\n",
       "      <td>124995.98</td>\n",
       "      <td>1</td>\n",
       "      <td>1</td>\n",
       "      <td>1</td>\n",
       "      <td>114669.79</td>\n",
       "      <td>False</td>\n",
       "      <td>True</td>\n",
       "      <td>False</td>\n",
       "    </tr>\n",
       "    <tr>\n",
       "      <th>...</th>\n",
       "      <td>...</td>\n",
       "      <td>...</td>\n",
       "      <td>...</td>\n",
       "      <td>...</td>\n",
       "      <td>...</td>\n",
       "      <td>...</td>\n",
       "      <td>...</td>\n",
       "      <td>...</td>\n",
       "      <td>...</td>\n",
       "      <td>...</td>\n",
       "      <td>...</td>\n",
       "    </tr>\n",
       "    <tr>\n",
       "      <th>6412</th>\n",
       "      <td>602</td>\n",
       "      <td>53</td>\n",
       "      <td>5</td>\n",
       "      <td>98268.84</td>\n",
       "      <td>1</td>\n",
       "      <td>0</td>\n",
       "      <td>1</td>\n",
       "      <td>45038.29</td>\n",
       "      <td>True</td>\n",
       "      <td>False</td>\n",
       "      <td>False</td>\n",
       "    </tr>\n",
       "    <tr>\n",
       "      <th>8285</th>\n",
       "      <td>609</td>\n",
       "      <td>25</td>\n",
       "      <td>10</td>\n",
       "      <td>0.00</td>\n",
       "      <td>1</td>\n",
       "      <td>0</td>\n",
       "      <td>1</td>\n",
       "      <td>109895.16</td>\n",
       "      <td>False</td>\n",
       "      <td>False</td>\n",
       "      <td>True</td>\n",
       "    </tr>\n",
       "    <tr>\n",
       "      <th>7853</th>\n",
       "      <td>730</td>\n",
       "      <td>47</td>\n",
       "      <td>7</td>\n",
       "      <td>0.00</td>\n",
       "      <td>1</td>\n",
       "      <td>1</td>\n",
       "      <td>0</td>\n",
       "      <td>33373.26</td>\n",
       "      <td>False</td>\n",
       "      <td>False</td>\n",
       "      <td>False</td>\n",
       "    </tr>\n",
       "    <tr>\n",
       "      <th>1095</th>\n",
       "      <td>692</td>\n",
       "      <td>29</td>\n",
       "      <td>4</td>\n",
       "      <td>0.00</td>\n",
       "      <td>1</td>\n",
       "      <td>1</td>\n",
       "      <td>0</td>\n",
       "      <td>76755.99</td>\n",
       "      <td>False</td>\n",
       "      <td>False</td>\n",
       "      <td>True</td>\n",
       "    </tr>\n",
       "    <tr>\n",
       "      <th>6929</th>\n",
       "      <td>628</td>\n",
       "      <td>39</td>\n",
       "      <td>1</td>\n",
       "      <td>115341.19</td>\n",
       "      <td>1</td>\n",
       "      <td>1</td>\n",
       "      <td>1</td>\n",
       "      <td>107674.30</td>\n",
       "      <td>True</td>\n",
       "      <td>False</td>\n",
       "      <td>True</td>\n",
       "    </tr>\n",
       "  </tbody>\n",
       "</table>\n",
       "<p>2000 rows × 11 columns</p>\n",
       "</div>"
      ],
      "text/plain": [
       "      CreditScore  Age  Tenure    Balance  NumOfProducts  HasCrCard  \\\n",
       "6252          596   32       3   96709.07              2          0   \n",
       "4684          623   43       1       0.00              2          1   \n",
       "1731          601   44       4       0.00              2          1   \n",
       "4742          506   59       8  119152.10              2          1   \n",
       "4521          560   27       7  124995.98              1          1   \n",
       "...           ...  ...     ...        ...            ...        ...   \n",
       "6412          602   53       5   98268.84              1          0   \n",
       "8285          609   25      10       0.00              1          0   \n",
       "7853          730   47       7       0.00              1          1   \n",
       "1095          692   29       4       0.00              1          1   \n",
       "6929          628   39       1  115341.19              1          1   \n",
       "\n",
       "      IsActiveMember  EstimatedSalary  Geography_Germany  Geography_Spain  \\\n",
       "6252               0         41788.37               True            False   \n",
       "4684               1        146379.30              False            False   \n",
       "1731               0         58561.31              False             True   \n",
       "4742               1        170679.74               True            False   \n",
       "4521               1        114669.79              False             True   \n",
       "...              ...              ...                ...              ...   \n",
       "6412               1         45038.29               True            False   \n",
       "8285               1        109895.16              False            False   \n",
       "7853               0         33373.26              False            False   \n",
       "1095               0         76755.99              False            False   \n",
       "6929               1        107674.30               True            False   \n",
       "\n",
       "      Gender_Male  \n",
       "6252         True  \n",
       "4684         True  \n",
       "1731        False  \n",
       "4742         True  \n",
       "4521        False  \n",
       "...           ...  \n",
       "6412        False  \n",
       "8285         True  \n",
       "7853        False  \n",
       "1095         True  \n",
       "6929         True  \n",
       "\n",
       "[2000 rows x 11 columns]"
      ]
     },
     "execution_count": 9,
     "metadata": {},
     "output_type": "execute_result"
    }
   ],
   "source": [
    "x_test"
   ]
  },
  {
   "cell_type": "code",
   "execution_count": 10,
   "id": "2d51cb14",
   "metadata": {
    "execution": {
     "iopub.execute_input": "2025-07-05T09:35:56.713804Z",
     "iopub.status.busy": "2025-07-05T09:35:56.713468Z",
     "iopub.status.idle": "2025-07-05T09:35:56.744072Z",
     "shell.execute_reply": "2025-07-05T09:35:56.742952Z"
    },
    "papermill": {
     "duration": 0.039321,
     "end_time": "2025-07-05T09:35:56.745816",
     "exception": false,
     "start_time": "2025-07-05T09:35:56.706495",
     "status": "completed"
    },
    "tags": []
   },
   "outputs": [],
   "source": [
    "scaling = StandardScaler()\n",
    "\n",
    "x_train = scaling.fit_transform(x_train)\n",
    "x_test = scaling.transform(x_test)"
   ]
  },
  {
   "cell_type": "code",
   "execution_count": 11,
   "id": "318ca92c",
   "metadata": {
    "execution": {
     "iopub.execute_input": "2025-07-05T09:35:56.758316Z",
     "iopub.status.busy": "2025-07-05T09:35:56.757988Z",
     "iopub.status.idle": "2025-07-05T09:35:56.764744Z",
     "shell.execute_reply": "2025-07-05T09:35:56.763757Z"
    },
    "papermill": {
     "duration": 0.014792,
     "end_time": "2025-07-05T09:35:56.766267",
     "exception": false,
     "start_time": "2025-07-05T09:35:56.751475",
     "status": "completed"
    },
    "tags": []
   },
   "outputs": [
    {
     "data": {
      "text/plain": [
       "array([[-0.57749609, -0.6557859 , -0.69539349, ...,  1.72572313,\n",
       "        -0.57638802,  0.91324755],\n",
       "       [-0.29729735,  0.3900109 , -1.38944225, ..., -0.57946723,\n",
       "        -0.57638802,  0.91324755],\n",
       "       [-0.52560743,  0.48508334, -0.3483691 , ..., -0.57946723,\n",
       "         1.73494238, -1.09499335],\n",
       "       ...,\n",
       "       [ 0.81311987,  0.77030065,  0.69270405, ..., -0.57946723,\n",
       "        -0.57638802, -1.09499335],\n",
       "       [ 0.41876609, -0.94100321, -0.3483691 , ..., -0.57946723,\n",
       "        -0.57638802,  0.91324755],\n",
       "       [-0.24540869,  0.00972116, -1.38944225, ...,  1.72572313,\n",
       "        -0.57638802,  0.91324755]])"
      ]
     },
     "execution_count": 11,
     "metadata": {},
     "output_type": "execute_result"
    }
   ],
   "source": [
    "x_test\n"
   ]
  },
  {
   "cell_type": "code",
   "execution_count": 12,
   "id": "78e7fa1b",
   "metadata": {
    "execution": {
     "iopub.execute_input": "2025-07-05T09:35:56.779828Z",
     "iopub.status.busy": "2025-07-05T09:35:56.779473Z",
     "iopub.status.idle": "2025-07-05T09:35:56.911831Z",
     "shell.execute_reply": "2025-07-05T09:35:56.910828Z"
    },
    "papermill": {
     "duration": 0.141581,
     "end_time": "2025-07-05T09:35:56.913702",
     "exception": false,
     "start_time": "2025-07-05T09:35:56.772121",
     "status": "completed"
    },
    "tags": []
   },
   "outputs": [],
   "source": [
    "from sklearn.linear_model import LogisticRegression "
   ]
  },
  {
   "cell_type": "code",
   "execution_count": 13,
   "id": "e4f647a1",
   "metadata": {
    "execution": {
     "iopub.execute_input": "2025-07-05T09:35:56.926540Z",
     "iopub.status.busy": "2025-07-05T09:35:56.926121Z",
     "iopub.status.idle": "2025-07-05T09:35:56.988932Z",
     "shell.execute_reply": "2025-07-05T09:35:56.988042Z"
    },
    "papermill": {
     "duration": 0.071159,
     "end_time": "2025-07-05T09:35:56.990664",
     "exception": false,
     "start_time": "2025-07-05T09:35:56.919505",
     "status": "completed"
    },
    "tags": []
   },
   "outputs": [
    {
     "data": {
      "text/html": [
       "<style>#sk-container-id-1 {color: black;background-color: white;}#sk-container-id-1 pre{padding: 0;}#sk-container-id-1 div.sk-toggleable {background-color: white;}#sk-container-id-1 label.sk-toggleable__label {cursor: pointer;display: block;width: 100%;margin-bottom: 0;padding: 0.3em;box-sizing: border-box;text-align: center;}#sk-container-id-1 label.sk-toggleable__label-arrow:before {content: \"▸\";float: left;margin-right: 0.25em;color: #696969;}#sk-container-id-1 label.sk-toggleable__label-arrow:hover:before {color: black;}#sk-container-id-1 div.sk-estimator:hover label.sk-toggleable__label-arrow:before {color: black;}#sk-container-id-1 div.sk-toggleable__content {max-height: 0;max-width: 0;overflow: hidden;text-align: left;background-color: #f0f8ff;}#sk-container-id-1 div.sk-toggleable__content pre {margin: 0.2em;color: black;border-radius: 0.25em;background-color: #f0f8ff;}#sk-container-id-1 input.sk-toggleable__control:checked~div.sk-toggleable__content {max-height: 200px;max-width: 100%;overflow: auto;}#sk-container-id-1 input.sk-toggleable__control:checked~label.sk-toggleable__label-arrow:before {content: \"▾\";}#sk-container-id-1 div.sk-estimator input.sk-toggleable__control:checked~label.sk-toggleable__label {background-color: #d4ebff;}#sk-container-id-1 div.sk-label input.sk-toggleable__control:checked~label.sk-toggleable__label {background-color: #d4ebff;}#sk-container-id-1 input.sk-hidden--visually {border: 0;clip: rect(1px 1px 1px 1px);clip: rect(1px, 1px, 1px, 1px);height: 1px;margin: -1px;overflow: hidden;padding: 0;position: absolute;width: 1px;}#sk-container-id-1 div.sk-estimator {font-family: monospace;background-color: #f0f8ff;border: 1px dotted black;border-radius: 0.25em;box-sizing: border-box;margin-bottom: 0.5em;}#sk-container-id-1 div.sk-estimator:hover {background-color: #d4ebff;}#sk-container-id-1 div.sk-parallel-item::after {content: \"\";width: 100%;border-bottom: 1px solid gray;flex-grow: 1;}#sk-container-id-1 div.sk-label:hover label.sk-toggleable__label {background-color: #d4ebff;}#sk-container-id-1 div.sk-serial::before {content: \"\";position: absolute;border-left: 1px solid gray;box-sizing: border-box;top: 0;bottom: 0;left: 50%;z-index: 0;}#sk-container-id-1 div.sk-serial {display: flex;flex-direction: column;align-items: center;background-color: white;padding-right: 0.2em;padding-left: 0.2em;position: relative;}#sk-container-id-1 div.sk-item {position: relative;z-index: 1;}#sk-container-id-1 div.sk-parallel {display: flex;align-items: stretch;justify-content: center;background-color: white;position: relative;}#sk-container-id-1 div.sk-item::before, #sk-container-id-1 div.sk-parallel-item::before {content: \"\";position: absolute;border-left: 1px solid gray;box-sizing: border-box;top: 0;bottom: 0;left: 50%;z-index: -1;}#sk-container-id-1 div.sk-parallel-item {display: flex;flex-direction: column;z-index: 1;position: relative;background-color: white;}#sk-container-id-1 div.sk-parallel-item:first-child::after {align-self: flex-end;width: 50%;}#sk-container-id-1 div.sk-parallel-item:last-child::after {align-self: flex-start;width: 50%;}#sk-container-id-1 div.sk-parallel-item:only-child::after {width: 0;}#sk-container-id-1 div.sk-dashed-wrapped {border: 1px dashed gray;margin: 0 0.4em 0.5em 0.4em;box-sizing: border-box;padding-bottom: 0.4em;background-color: white;}#sk-container-id-1 div.sk-label label {font-family: monospace;font-weight: bold;display: inline-block;line-height: 1.2em;}#sk-container-id-1 div.sk-label-container {text-align: center;}#sk-container-id-1 div.sk-container {/* jupyter's `normalize.less` sets `[hidden] { display: none; }` but bootstrap.min.css set `[hidden] { display: none !important; }` so we also need the `!important` here to be able to override the default hidden behavior on the sphinx rendered scikit-learn.org. See: https://github.com/scikit-learn/scikit-learn/issues/21755 */display: inline-block !important;position: relative;}#sk-container-id-1 div.sk-text-repr-fallback {display: none;}</style><div id=\"sk-container-id-1\" class=\"sk-top-container\"><div class=\"sk-text-repr-fallback\"><pre>LogisticRegression()</pre><b>In a Jupyter environment, please rerun this cell to show the HTML representation or trust the notebook. <br />On GitHub, the HTML representation is unable to render, please try loading this page with nbviewer.org.</b></div><div class=\"sk-container\" hidden><div class=\"sk-item\"><div class=\"sk-estimator sk-toggleable\"><input class=\"sk-toggleable__control sk-hidden--visually\" id=\"sk-estimator-id-1\" type=\"checkbox\" checked><label for=\"sk-estimator-id-1\" class=\"sk-toggleable__label sk-toggleable__label-arrow\">LogisticRegression</label><div class=\"sk-toggleable__content\"><pre>LogisticRegression()</pre></div></div></div></div></div>"
      ],
      "text/plain": [
       "LogisticRegression()"
      ]
     },
     "execution_count": 13,
     "metadata": {},
     "output_type": "execute_result"
    }
   ],
   "source": [
    "lr = LogisticRegression()\n",
    "\n",
    "lr.fit(x_train,y_train)\n",
    "\n"
   ]
  },
  {
   "cell_type": "code",
   "execution_count": 14,
   "id": "22d23bc1",
   "metadata": {
    "execution": {
     "iopub.execute_input": "2025-07-05T09:35:57.010946Z",
     "iopub.status.busy": "2025-07-05T09:35:57.010565Z",
     "iopub.status.idle": "2025-07-05T09:35:57.019706Z",
     "shell.execute_reply": "2025-07-05T09:35:57.018923Z"
    },
    "papermill": {
     "duration": 0.021358,
     "end_time": "2025-07-05T09:35:57.021660",
     "exception": false,
     "start_time": "2025-07-05T09:35:57.000302",
     "status": "completed"
    },
    "tags": []
   },
   "outputs": [],
   "source": [
    "y_predict = lr.predict(x_test)"
   ]
  },
  {
   "cell_type": "code",
   "execution_count": 15,
   "id": "5f01a544",
   "metadata": {
    "execution": {
     "iopub.execute_input": "2025-07-05T09:35:57.050839Z",
     "iopub.status.busy": "2025-07-05T09:35:57.049412Z",
     "iopub.status.idle": "2025-07-05T09:35:57.059792Z",
     "shell.execute_reply": "2025-07-05T09:35:57.059075Z"
    },
    "papermill": {
     "duration": 0.022966,
     "end_time": "2025-07-05T09:35:57.061678",
     "exception": false,
     "start_time": "2025-07-05T09:35:57.038712",
     "status": "completed"
    },
    "tags": []
   },
   "outputs": [
    {
     "data": {
      "text/plain": [
       "0.811"
      ]
     },
     "execution_count": 15,
     "metadata": {},
     "output_type": "execute_result"
    }
   ],
   "source": [
    "from sklearn.metrics import accuracy_score \n",
    "\n",
    "score = accuracy_score (y_test,y_predict)\n",
    "\n",
    "score "
   ]
  },
  {
   "cell_type": "code",
   "execution_count": 16,
   "id": "d94a4d23",
   "metadata": {
    "execution": {
     "iopub.execute_input": "2025-07-05T09:35:57.082757Z",
     "iopub.status.busy": "2025-07-05T09:35:57.082238Z",
     "iopub.status.idle": "2025-07-05T09:36:13.336857Z",
     "shell.execute_reply": "2025-07-05T09:36:13.335794Z"
    },
    "papermill": {
     "duration": 16.26754,
     "end_time": "2025-07-05T09:36:13.338788",
     "exception": false,
     "start_time": "2025-07-05T09:35:57.071248",
     "status": "completed"
    },
    "tags": []
   },
   "outputs": [
    {
     "name": "stderr",
     "output_type": "stream",
     "text": [
      "2025-07-05 09:35:58.853755: E external/local_xla/xla/stream_executor/cuda/cuda_fft.cc:477] Unable to register cuFFT factory: Attempting to register factory for plugin cuFFT when one has already been registered\n",
      "WARNING: All log messages before absl::InitializeLog() is called are written to STDERR\n",
      "E0000 00:00:1751708159.083522      13 cuda_dnn.cc:8310] Unable to register cuDNN factory: Attempting to register factory for plugin cuDNN when one has already been registered\n",
      "E0000 00:00:1751708159.150534      13 cuda_blas.cc:1418] Unable to register cuBLAS factory: Attempting to register factory for plugin cuBLAS when one has already been registered\n"
     ]
    }
   ],
   "source": [
    "import tensorflow\n",
    "from tensorflow import keras\n",
    "from tensorflow.keras import Sequential\n",
    "from tensorflow.keras.layers import Dense"
   ]
  },
  {
   "cell_type": "markdown",
   "id": "7b6f1c53",
   "metadata": {
    "papermill": {
     "duration": 0.005549,
     "end_time": "2025-07-05T09:36:13.350687",
     "exception": false,
     "start_time": "2025-07-05T09:36:13.345138",
     "status": "completed"
    },
    "tags": []
   },
   "source": []
  },
  {
   "cell_type": "code",
   "execution_count": 17,
   "id": "667542e6",
   "metadata": {
    "execution": {
     "iopub.execute_input": "2025-07-05T09:36:13.364623Z",
     "iopub.status.busy": "2025-07-05T09:36:13.363373Z",
     "iopub.status.idle": "2025-07-05T09:36:13.492051Z",
     "shell.execute_reply": "2025-07-05T09:36:13.491097Z"
    },
    "papermill": {
     "duration": 0.137237,
     "end_time": "2025-07-05T09:36:13.493716",
     "exception": false,
     "start_time": "2025-07-05T09:36:13.356479",
     "status": "completed"
    },
    "tags": []
   },
   "outputs": [
    {
     "name": "stderr",
     "output_type": "stream",
     "text": [
      "/usr/local/lib/python3.11/dist-packages/keras/src/layers/core/dense.py:87: UserWarning: Do not pass an `input_shape`/`input_dim` argument to a layer. When using Sequential models, prefer using an `Input(shape)` object as the first layer in the model instead.\n",
      "  super().__init__(activity_regularizer=activity_regularizer, **kwargs)\n",
      "2025-07-05 09:36:13.389301: E external/local_xla/xla/stream_executor/cuda/cuda_driver.cc:152] failed call to cuInit: INTERNAL: CUDA error: Failed call to cuInit: UNKNOWN ERROR (303)\n"
     ]
    }
   ],
   "source": [
    "model = Sequential()\n",
    "\n",
    "model.add(Dense(10,activation='sigmoid',input_dim=11))\n",
    "for i in range (3):\n",
    "\n",
    "    model.add(Dense(50,activation=\"relu\"))\n",
    "\n",
    "\n",
    "model.add(Dense(1,activation='sigmoid')) #binary classification problem that why Only 1 node at output layer\n",
    "\n",
    "\n"
   ]
  },
  {
   "cell_type": "code",
   "execution_count": 18,
   "id": "11ec1fc2",
   "metadata": {
    "execution": {
     "iopub.execute_input": "2025-07-05T09:36:13.507208Z",
     "iopub.status.busy": "2025-07-05T09:36:13.506579Z",
     "iopub.status.idle": "2025-07-05T09:36:13.524097Z",
     "shell.execute_reply": "2025-07-05T09:36:13.523306Z"
    },
    "papermill": {
     "duration": 0.025643,
     "end_time": "2025-07-05T09:36:13.525397",
     "exception": false,
     "start_time": "2025-07-05T09:36:13.499754",
     "status": "completed"
    },
    "tags": []
   },
   "outputs": [
    {
     "data": {
      "text/html": [
       "<pre style=\"white-space:pre;overflow-x:auto;line-height:normal;font-family:Menlo,'DejaVu Sans Mono',consolas,'Courier New',monospace\"><span style=\"font-weight: bold\">Model: \"sequential\"</span>\n",
       "</pre>\n"
      ],
      "text/plain": [
       "\u001b[1mModel: \"sequential\"\u001b[0m\n"
      ]
     },
     "metadata": {},
     "output_type": "display_data"
    },
    {
     "data": {
      "text/html": [
       "<pre style=\"white-space:pre;overflow-x:auto;line-height:normal;font-family:Menlo,'DejaVu Sans Mono',consolas,'Courier New',monospace\">┏━━━━━━━━━━━━━━━━━━━━━━━━━━━━━━━━━━━━━━┳━━━━━━━━━━━━━━━━━━━━━━━━━━━━━┳━━━━━━━━━━━━━━━━━┓\n",
       "┃<span style=\"font-weight: bold\"> Layer (type)                         </span>┃<span style=\"font-weight: bold\"> Output Shape                </span>┃<span style=\"font-weight: bold\">         Param # </span>┃\n",
       "┡━━━━━━━━━━━━━━━━━━━━━━━━━━━━━━━━━━━━━━╇━━━━━━━━━━━━━━━━━━━━━━━━━━━━━╇━━━━━━━━━━━━━━━━━┩\n",
       "│ dense (<span style=\"color: #0087ff; text-decoration-color: #0087ff\">Dense</span>)                        │ (<span style=\"color: #00d7ff; text-decoration-color: #00d7ff\">None</span>, <span style=\"color: #00af00; text-decoration-color: #00af00\">10</span>)                  │             <span style=\"color: #00af00; text-decoration-color: #00af00\">120</span> │\n",
       "├──────────────────────────────────────┼─────────────────────────────┼─────────────────┤\n",
       "│ dense_1 (<span style=\"color: #0087ff; text-decoration-color: #0087ff\">Dense</span>)                      │ (<span style=\"color: #00d7ff; text-decoration-color: #00d7ff\">None</span>, <span style=\"color: #00af00; text-decoration-color: #00af00\">50</span>)                  │             <span style=\"color: #00af00; text-decoration-color: #00af00\">550</span> │\n",
       "├──────────────────────────────────────┼─────────────────────────────┼─────────────────┤\n",
       "│ dense_2 (<span style=\"color: #0087ff; text-decoration-color: #0087ff\">Dense</span>)                      │ (<span style=\"color: #00d7ff; text-decoration-color: #00d7ff\">None</span>, <span style=\"color: #00af00; text-decoration-color: #00af00\">50</span>)                  │           <span style=\"color: #00af00; text-decoration-color: #00af00\">2,550</span> │\n",
       "├──────────────────────────────────────┼─────────────────────────────┼─────────────────┤\n",
       "│ dense_3 (<span style=\"color: #0087ff; text-decoration-color: #0087ff\">Dense</span>)                      │ (<span style=\"color: #00d7ff; text-decoration-color: #00d7ff\">None</span>, <span style=\"color: #00af00; text-decoration-color: #00af00\">50</span>)                  │           <span style=\"color: #00af00; text-decoration-color: #00af00\">2,550</span> │\n",
       "├──────────────────────────────────────┼─────────────────────────────┼─────────────────┤\n",
       "│ dense_4 (<span style=\"color: #0087ff; text-decoration-color: #0087ff\">Dense</span>)                      │ (<span style=\"color: #00d7ff; text-decoration-color: #00d7ff\">None</span>, <span style=\"color: #00af00; text-decoration-color: #00af00\">1</span>)                   │              <span style=\"color: #00af00; text-decoration-color: #00af00\">51</span> │\n",
       "└──────────────────────────────────────┴─────────────────────────────┴─────────────────┘\n",
       "</pre>\n"
      ],
      "text/plain": [
       "┏━━━━━━━━━━━━━━━━━━━━━━━━━━━━━━━━━━━━━━┳━━━━━━━━━━━━━━━━━━━━━━━━━━━━━┳━━━━━━━━━━━━━━━━━┓\n",
       "┃\u001b[1m \u001b[0m\u001b[1mLayer (type)                        \u001b[0m\u001b[1m \u001b[0m┃\u001b[1m \u001b[0m\u001b[1mOutput Shape               \u001b[0m\u001b[1m \u001b[0m┃\u001b[1m \u001b[0m\u001b[1m        Param #\u001b[0m\u001b[1m \u001b[0m┃\n",
       "┡━━━━━━━━━━━━━━━━━━━━━━━━━━━━━━━━━━━━━━╇━━━━━━━━━━━━━━━━━━━━━━━━━━━━━╇━━━━━━━━━━━━━━━━━┩\n",
       "│ dense (\u001b[38;5;33mDense\u001b[0m)                        │ (\u001b[38;5;45mNone\u001b[0m, \u001b[38;5;34m10\u001b[0m)                  │             \u001b[38;5;34m120\u001b[0m │\n",
       "├──────────────────────────────────────┼─────────────────────────────┼─────────────────┤\n",
       "│ dense_1 (\u001b[38;5;33mDense\u001b[0m)                      │ (\u001b[38;5;45mNone\u001b[0m, \u001b[38;5;34m50\u001b[0m)                  │             \u001b[38;5;34m550\u001b[0m │\n",
       "├──────────────────────────────────────┼─────────────────────────────┼─────────────────┤\n",
       "│ dense_2 (\u001b[38;5;33mDense\u001b[0m)                      │ (\u001b[38;5;45mNone\u001b[0m, \u001b[38;5;34m50\u001b[0m)                  │           \u001b[38;5;34m2,550\u001b[0m │\n",
       "├──────────────────────────────────────┼─────────────────────────────┼─────────────────┤\n",
       "│ dense_3 (\u001b[38;5;33mDense\u001b[0m)                      │ (\u001b[38;5;45mNone\u001b[0m, \u001b[38;5;34m50\u001b[0m)                  │           \u001b[38;5;34m2,550\u001b[0m │\n",
       "├──────────────────────────────────────┼─────────────────────────────┼─────────────────┤\n",
       "│ dense_4 (\u001b[38;5;33mDense\u001b[0m)                      │ (\u001b[38;5;45mNone\u001b[0m, \u001b[38;5;34m1\u001b[0m)                   │              \u001b[38;5;34m51\u001b[0m │\n",
       "└──────────────────────────────────────┴─────────────────────────────┴─────────────────┘\n"
      ]
     },
     "metadata": {},
     "output_type": "display_data"
    },
    {
     "data": {
      "text/html": [
       "<pre style=\"white-space:pre;overflow-x:auto;line-height:normal;font-family:Menlo,'DejaVu Sans Mono',consolas,'Courier New',monospace\"><span style=\"font-weight: bold\"> Total params: </span><span style=\"color: #00af00; text-decoration-color: #00af00\">5,821</span> (22.74 KB)\n",
       "</pre>\n"
      ],
      "text/plain": [
       "\u001b[1m Total params: \u001b[0m\u001b[38;5;34m5,821\u001b[0m (22.74 KB)\n"
      ]
     },
     "metadata": {},
     "output_type": "display_data"
    },
    {
     "data": {
      "text/html": [
       "<pre style=\"white-space:pre;overflow-x:auto;line-height:normal;font-family:Menlo,'DejaVu Sans Mono',consolas,'Courier New',monospace\"><span style=\"font-weight: bold\"> Trainable params: </span><span style=\"color: #00af00; text-decoration-color: #00af00\">5,821</span> (22.74 KB)\n",
       "</pre>\n"
      ],
      "text/plain": [
       "\u001b[1m Trainable params: \u001b[0m\u001b[38;5;34m5,821\u001b[0m (22.74 KB)\n"
      ]
     },
     "metadata": {},
     "output_type": "display_data"
    },
    {
     "data": {
      "text/html": [
       "<pre style=\"white-space:pre;overflow-x:auto;line-height:normal;font-family:Menlo,'DejaVu Sans Mono',consolas,'Courier New',monospace\"><span style=\"font-weight: bold\"> Non-trainable params: </span><span style=\"color: #00af00; text-decoration-color: #00af00\">0</span> (0.00 B)\n",
       "</pre>\n"
      ],
      "text/plain": [
       "\u001b[1m Non-trainable params: \u001b[0m\u001b[38;5;34m0\u001b[0m (0.00 B)\n"
      ]
     },
     "metadata": {},
     "output_type": "display_data"
    }
   ],
   "source": [
    "model.summary()"
   ]
  },
  {
   "cell_type": "code",
   "execution_count": 19,
   "id": "7f652b38",
   "metadata": {
    "execution": {
     "iopub.execute_input": "2025-07-05T09:36:13.540195Z",
     "iopub.status.busy": "2025-07-05T09:36:13.539780Z",
     "iopub.status.idle": "2025-07-05T09:36:13.555938Z",
     "shell.execute_reply": "2025-07-05T09:36:13.554805Z"
    },
    "papermill": {
     "duration": 0.025545,
     "end_time": "2025-07-05T09:36:13.557684",
     "exception": false,
     "start_time": "2025-07-05T09:36:13.532139",
     "status": "completed"
    },
    "tags": []
   },
   "outputs": [],
   "source": [
    "model.compile(loss=\"binary_crossentropy\",optimizer=\"Adam\",metrics = [\"accuracy\"])"
   ]
  },
  {
   "cell_type": "code",
   "execution_count": 20,
   "id": "29b8e039",
   "metadata": {
    "execution": {
     "iopub.execute_input": "2025-07-05T09:36:13.572807Z",
     "iopub.status.busy": "2025-07-05T09:36:13.571918Z",
     "iopub.status.idle": "2025-07-05T09:37:42.329496Z",
     "shell.execute_reply": "2025-07-05T09:37:42.328240Z"
    },
    "papermill": {
     "duration": 88.767102,
     "end_time": "2025-07-05T09:37:42.331326",
     "exception": false,
     "start_time": "2025-07-05T09:36:13.564224",
     "status": "completed"
    },
    "tags": []
   },
   "outputs": [
    {
     "name": "stdout",
     "output_type": "stream",
     "text": [
      "Epoch 1/50\n",
      "\u001b[1m640/640\u001b[0m \u001b[32m━━━━━━━━━━━━━━━━━━━━\u001b[0m\u001b[37m\u001b[0m \u001b[1m5s\u001b[0m 3ms/step - accuracy: 0.7851 - loss: 0.4961 - val_accuracy: 0.8406 - val_loss: 0.3858\n",
      "Epoch 2/50\n",
      "\u001b[1m640/640\u001b[0m \u001b[32m━━━━━━━━━━━━━━━━━━━━\u001b[0m\u001b[37m\u001b[0m \u001b[1m2s\u001b[0m 3ms/step - accuracy: 0.8338 - loss: 0.3868 - val_accuracy: 0.8600 - val_loss: 0.3598\n",
      "Epoch 3/50\n",
      "\u001b[1m640/640\u001b[0m \u001b[32m━━━━━━━━━━━━━━━━━━━━\u001b[0m\u001b[37m\u001b[0m \u001b[1m2s\u001b[0m 3ms/step - accuracy: 0.8435 - loss: 0.3676 - val_accuracy: 0.8562 - val_loss: 0.3506\n",
      "Epoch 4/50\n",
      "\u001b[1m640/640\u001b[0m \u001b[32m━━━━━━━━━━━━━━━━━━━━\u001b[0m\u001b[37m\u001b[0m \u001b[1m2s\u001b[0m 3ms/step - accuracy: 0.8592 - loss: 0.3508 - val_accuracy: 0.8575 - val_loss: 0.3499\n",
      "Epoch 5/50\n",
      "\u001b[1m640/640\u001b[0m \u001b[32m━━━━━━━━━━━━━━━━━━━━\u001b[0m\u001b[37m\u001b[0m \u001b[1m2s\u001b[0m 3ms/step - accuracy: 0.8607 - loss: 0.3373 - val_accuracy: 0.8544 - val_loss: 0.3574\n",
      "Epoch 6/50\n",
      "\u001b[1m640/640\u001b[0m \u001b[32m━━━━━━━━━━━━━━━━━━━━\u001b[0m\u001b[37m\u001b[0m \u001b[1m2s\u001b[0m 3ms/step - accuracy: 0.8636 - loss: 0.3436 - val_accuracy: 0.8569 - val_loss: 0.3449\n",
      "Epoch 7/50\n",
      "\u001b[1m640/640\u001b[0m \u001b[32m━━━━━━━━━━━━━━━━━━━━\u001b[0m\u001b[37m\u001b[0m \u001b[1m2s\u001b[0m 3ms/step - accuracy: 0.8577 - loss: 0.3474 - val_accuracy: 0.8600 - val_loss: 0.3457\n",
      "Epoch 8/50\n",
      "\u001b[1m640/640\u001b[0m \u001b[32m━━━━━━━━━━━━━━━━━━━━\u001b[0m\u001b[37m\u001b[0m \u001b[1m2s\u001b[0m 3ms/step - accuracy: 0.8546 - loss: 0.3503 - val_accuracy: 0.8587 - val_loss: 0.3460\n",
      "Epoch 9/50\n",
      "\u001b[1m640/640\u001b[0m \u001b[32m━━━━━━━━━━━━━━━━━━━━\u001b[0m\u001b[37m\u001b[0m \u001b[1m2s\u001b[0m 3ms/step - accuracy: 0.8605 - loss: 0.3365 - val_accuracy: 0.8575 - val_loss: 0.3489\n",
      "Epoch 10/50\n",
      "\u001b[1m640/640\u001b[0m \u001b[32m━━━━━━━━━━━━━━━━━━━━\u001b[0m\u001b[37m\u001b[0m \u001b[1m2s\u001b[0m 3ms/step - accuracy: 0.8643 - loss: 0.3358 - val_accuracy: 0.8481 - val_loss: 0.3535\n",
      "Epoch 11/50\n",
      "\u001b[1m640/640\u001b[0m \u001b[32m━━━━━━━━━━━━━━━━━━━━\u001b[0m\u001b[37m\u001b[0m \u001b[1m2s\u001b[0m 3ms/step - accuracy: 0.8695 - loss: 0.3284 - val_accuracy: 0.8544 - val_loss: 0.3487\n",
      "Epoch 12/50\n",
      "\u001b[1m640/640\u001b[0m \u001b[32m━━━━━━━━━━━━━━━━━━━━\u001b[0m\u001b[37m\u001b[0m \u001b[1m2s\u001b[0m 3ms/step - accuracy: 0.8630 - loss: 0.3352 - val_accuracy: 0.8594 - val_loss: 0.3449\n",
      "Epoch 13/50\n",
      "\u001b[1m640/640\u001b[0m \u001b[32m━━━━━━━━━━━━━━━━━━━━\u001b[0m\u001b[37m\u001b[0m \u001b[1m2s\u001b[0m 3ms/step - accuracy: 0.8629 - loss: 0.3390 - val_accuracy: 0.8556 - val_loss: 0.3466\n",
      "Epoch 14/50\n",
      "\u001b[1m640/640\u001b[0m \u001b[32m━━━━━━━━━━━━━━━━━━━━\u001b[0m\u001b[37m\u001b[0m \u001b[1m2s\u001b[0m 3ms/step - accuracy: 0.8590 - loss: 0.3321 - val_accuracy: 0.8575 - val_loss: 0.3456\n",
      "Epoch 15/50\n",
      "\u001b[1m640/640\u001b[0m \u001b[32m━━━━━━━━━━━━━━━━━━━━\u001b[0m\u001b[37m\u001b[0m \u001b[1m2s\u001b[0m 3ms/step - accuracy: 0.8643 - loss: 0.3253 - val_accuracy: 0.8562 - val_loss: 0.3526\n",
      "Epoch 16/50\n",
      "\u001b[1m640/640\u001b[0m \u001b[32m━━━━━━━━━━━━━━━━━━━━\u001b[0m\u001b[37m\u001b[0m \u001b[1m2s\u001b[0m 3ms/step - accuracy: 0.8671 - loss: 0.3294 - val_accuracy: 0.8587 - val_loss: 0.3537\n",
      "Epoch 17/50\n",
      "\u001b[1m640/640\u001b[0m \u001b[32m━━━━━━━━━━━━━━━━━━━━\u001b[0m\u001b[37m\u001b[0m \u001b[1m2s\u001b[0m 3ms/step - accuracy: 0.8567 - loss: 0.3512 - val_accuracy: 0.8544 - val_loss: 0.3465\n",
      "Epoch 18/50\n",
      "\u001b[1m640/640\u001b[0m \u001b[32m━━━━━━━━━━━━━━━━━━━━\u001b[0m\u001b[37m\u001b[0m \u001b[1m2s\u001b[0m 3ms/step - accuracy: 0.8719 - loss: 0.3223 - val_accuracy: 0.8562 - val_loss: 0.3560\n",
      "Epoch 19/50\n",
      "\u001b[1m640/640\u001b[0m \u001b[32m━━━━━━━━━━━━━━━━━━━━\u001b[0m\u001b[37m\u001b[0m \u001b[1m2s\u001b[0m 3ms/step - accuracy: 0.8688 - loss: 0.3192 - val_accuracy: 0.8550 - val_loss: 0.3479\n",
      "Epoch 20/50\n",
      "\u001b[1m640/640\u001b[0m \u001b[32m━━━━━━━━━━━━━━━━━━━━\u001b[0m\u001b[37m\u001b[0m \u001b[1m2s\u001b[0m 3ms/step - accuracy: 0.8672 - loss: 0.3278 - val_accuracy: 0.8587 - val_loss: 0.3543\n",
      "Epoch 21/50\n",
      "\u001b[1m640/640\u001b[0m \u001b[32m━━━━━━━━━━━━━━━━━━━━\u001b[0m\u001b[37m\u001b[0m \u001b[1m2s\u001b[0m 3ms/step - accuracy: 0.8579 - loss: 0.3333 - val_accuracy: 0.8562 - val_loss: 0.3455\n",
      "Epoch 22/50\n",
      "\u001b[1m640/640\u001b[0m \u001b[32m━━━━━━━━━━━━━━━━━━━━\u001b[0m\u001b[37m\u001b[0m \u001b[1m2s\u001b[0m 3ms/step - accuracy: 0.8664 - loss: 0.3288 - val_accuracy: 0.8606 - val_loss: 0.3489\n",
      "Epoch 23/50\n",
      "\u001b[1m640/640\u001b[0m \u001b[32m━━━━━━━━━━━━━━━━━━━━\u001b[0m\u001b[37m\u001b[0m \u001b[1m2s\u001b[0m 2ms/step - accuracy: 0.8704 - loss: 0.3222 - val_accuracy: 0.8506 - val_loss: 0.3496\n",
      "Epoch 24/50\n",
      "\u001b[1m640/640\u001b[0m \u001b[32m━━━━━━━━━━━━━━━━━━━━\u001b[0m\u001b[37m\u001b[0m \u001b[1m2s\u001b[0m 2ms/step - accuracy: 0.8634 - loss: 0.3337 - val_accuracy: 0.8537 - val_loss: 0.3489\n",
      "Epoch 25/50\n",
      "\u001b[1m640/640\u001b[0m \u001b[32m━━━━━━━━━━━━━━━━━━━━\u001b[0m\u001b[37m\u001b[0m \u001b[1m2s\u001b[0m 3ms/step - accuracy: 0.8691 - loss: 0.3265 - val_accuracy: 0.8575 - val_loss: 0.3433\n",
      "Epoch 26/50\n",
      "\u001b[1m640/640\u001b[0m \u001b[32m━━━━━━━━━━━━━━━━━━━━\u001b[0m\u001b[37m\u001b[0m \u001b[1m2s\u001b[0m 2ms/step - accuracy: 0.8599 - loss: 0.3408 - val_accuracy: 0.8531 - val_loss: 0.3492\n",
      "Epoch 27/50\n",
      "\u001b[1m640/640\u001b[0m \u001b[32m━━━━━━━━━━━━━━━━━━━━\u001b[0m\u001b[37m\u001b[0m \u001b[1m2s\u001b[0m 3ms/step - accuracy: 0.8679 - loss: 0.3327 - val_accuracy: 0.8581 - val_loss: 0.3509\n",
      "Epoch 28/50\n",
      "\u001b[1m640/640\u001b[0m \u001b[32m━━━━━━━━━━━━━━━━━━━━\u001b[0m\u001b[37m\u001b[0m \u001b[1m2s\u001b[0m 3ms/step - accuracy: 0.8686 - loss: 0.3215 - val_accuracy: 0.8531 - val_loss: 0.3459\n",
      "Epoch 29/50\n",
      "\u001b[1m640/640\u001b[0m \u001b[32m━━━━━━━━━━━━━━━━━━━━\u001b[0m\u001b[37m\u001b[0m \u001b[1m2s\u001b[0m 3ms/step - accuracy: 0.8650 - loss: 0.3287 - val_accuracy: 0.8531 - val_loss: 0.3532\n",
      "Epoch 30/50\n",
      "\u001b[1m640/640\u001b[0m \u001b[32m━━━━━━━━━━━━━━━━━━━━\u001b[0m\u001b[37m\u001b[0m \u001b[1m2s\u001b[0m 2ms/step - accuracy: 0.8645 - loss: 0.3317 - val_accuracy: 0.8537 - val_loss: 0.3563\n",
      "Epoch 31/50\n",
      "\u001b[1m640/640\u001b[0m \u001b[32m━━━━━━━━━━━━━━━━━━━━\u001b[0m\u001b[37m\u001b[0m \u001b[1m2s\u001b[0m 2ms/step - accuracy: 0.8644 - loss: 0.3390 - val_accuracy: 0.8569 - val_loss: 0.3438\n",
      "Epoch 32/50\n",
      "\u001b[1m640/640\u001b[0m \u001b[32m━━━━━━━━━━━━━━━━━━━━\u001b[0m\u001b[37m\u001b[0m \u001b[1m2s\u001b[0m 2ms/step - accuracy: 0.8661 - loss: 0.3307 - val_accuracy: 0.8600 - val_loss: 0.3492\n",
      "Epoch 33/50\n",
      "\u001b[1m640/640\u001b[0m \u001b[32m━━━━━━━━━━━━━━━━━━━━\u001b[0m\u001b[37m\u001b[0m \u001b[1m2s\u001b[0m 3ms/step - accuracy: 0.8688 - loss: 0.3200 - val_accuracy: 0.8550 - val_loss: 0.3501\n",
      "Epoch 34/50\n",
      "\u001b[1m640/640\u001b[0m \u001b[32m━━━━━━━━━━━━━━━━━━━━\u001b[0m\u001b[37m\u001b[0m \u001b[1m2s\u001b[0m 3ms/step - accuracy: 0.8582 - loss: 0.3405 - val_accuracy: 0.8525 - val_loss: 0.3526\n",
      "Epoch 35/50\n",
      "\u001b[1m640/640\u001b[0m \u001b[32m━━━━━━━━━━━━━━━━━━━━\u001b[0m\u001b[37m\u001b[0m \u001b[1m2s\u001b[0m 2ms/step - accuracy: 0.8697 - loss: 0.3231 - val_accuracy: 0.8594 - val_loss: 0.3433\n",
      "Epoch 36/50\n",
      "\u001b[1m640/640\u001b[0m \u001b[32m━━━━━━━━━━━━━━━━━━━━\u001b[0m\u001b[37m\u001b[0m \u001b[1m2s\u001b[0m 3ms/step - accuracy: 0.8712 - loss: 0.3150 - val_accuracy: 0.8556 - val_loss: 0.3418\n",
      "Epoch 37/50\n",
      "\u001b[1m640/640\u001b[0m \u001b[32m━━━━━━━━━━━━━━━━━━━━\u001b[0m\u001b[37m\u001b[0m \u001b[1m2s\u001b[0m 3ms/step - accuracy: 0.8713 - loss: 0.3152 - val_accuracy: 0.8569 - val_loss: 0.3485\n",
      "Epoch 38/50\n",
      "\u001b[1m640/640\u001b[0m \u001b[32m━━━━━━━━━━━━━━━━━━━━\u001b[0m\u001b[37m\u001b[0m \u001b[1m2s\u001b[0m 3ms/step - accuracy: 0.8746 - loss: 0.3187 - val_accuracy: 0.8550 - val_loss: 0.3491\n",
      "Epoch 39/50\n",
      "\u001b[1m640/640\u001b[0m \u001b[32m━━━━━━━━━━━━━━━━━━━━\u001b[0m\u001b[37m\u001b[0m \u001b[1m2s\u001b[0m 3ms/step - accuracy: 0.8720 - loss: 0.3123 - val_accuracy: 0.8531 - val_loss: 0.3477\n",
      "Epoch 40/50\n",
      "\u001b[1m640/640\u001b[0m \u001b[32m━━━━━━━━━━━━━━━━━━━━\u001b[0m\u001b[37m\u001b[0m \u001b[1m2s\u001b[0m 3ms/step - accuracy: 0.8717 - loss: 0.3181 - val_accuracy: 0.8581 - val_loss: 0.3530\n",
      "Epoch 41/50\n",
      "\u001b[1m640/640\u001b[0m \u001b[32m━━━━━━━━━━━━━━━━━━━━\u001b[0m\u001b[37m\u001b[0m \u001b[1m2s\u001b[0m 3ms/step - accuracy: 0.8660 - loss: 0.3218 - val_accuracy: 0.8575 - val_loss: 0.3462\n",
      "Epoch 42/50\n",
      "\u001b[1m640/640\u001b[0m \u001b[32m━━━━━━━━━━━━━━━━━━━━\u001b[0m\u001b[37m\u001b[0m \u001b[1m2s\u001b[0m 3ms/step - accuracy: 0.8682 - loss: 0.3237 - val_accuracy: 0.8556 - val_loss: 0.3505\n",
      "Epoch 43/50\n",
      "\u001b[1m640/640\u001b[0m \u001b[32m━━━━━━━━━━━━━━━━━━━━\u001b[0m\u001b[37m\u001b[0m \u001b[1m2s\u001b[0m 3ms/step - accuracy: 0.8707 - loss: 0.3149 - val_accuracy: 0.8569 - val_loss: 0.3448\n",
      "Epoch 44/50\n",
      "\u001b[1m640/640\u001b[0m \u001b[32m━━━━━━━━━━━━━━━━━━━━\u001b[0m\u001b[37m\u001b[0m \u001b[1m2s\u001b[0m 3ms/step - accuracy: 0.8694 - loss: 0.3269 - val_accuracy: 0.8544 - val_loss: 0.3508\n",
      "Epoch 45/50\n",
      "\u001b[1m640/640\u001b[0m \u001b[32m━━━━━━━━━━━━━━━━━━━━\u001b[0m\u001b[37m\u001b[0m \u001b[1m2s\u001b[0m 3ms/step - accuracy: 0.8660 - loss: 0.3275 - val_accuracy: 0.8481 - val_loss: 0.3536\n",
      "Epoch 46/50\n",
      "\u001b[1m640/640\u001b[0m \u001b[32m━━━━━━━━━━━━━━━━━━━━\u001b[0m\u001b[37m\u001b[0m \u001b[1m2s\u001b[0m 3ms/step - accuracy: 0.8711 - loss: 0.3209 - val_accuracy: 0.8519 - val_loss: 0.3463\n",
      "Epoch 47/50\n",
      "\u001b[1m640/640\u001b[0m \u001b[32m━━━━━━━━━━━━━━━━━━━━\u001b[0m\u001b[37m\u001b[0m \u001b[1m2s\u001b[0m 3ms/step - accuracy: 0.8647 - loss: 0.3257 - val_accuracy: 0.8494 - val_loss: 0.3585\n",
      "Epoch 48/50\n",
      "\u001b[1m640/640\u001b[0m \u001b[32m━━━━━━━━━━━━━━━━━━━━\u001b[0m\u001b[37m\u001b[0m \u001b[1m2s\u001b[0m 3ms/step - accuracy: 0.8715 - loss: 0.3140 - val_accuracy: 0.8544 - val_loss: 0.3473\n",
      "Epoch 49/50\n",
      "\u001b[1m640/640\u001b[0m \u001b[32m━━━━━━━━━━━━━━━━━━━━\u001b[0m\u001b[37m\u001b[0m \u001b[1m2s\u001b[0m 3ms/step - accuracy: 0.8625 - loss: 0.3229 - val_accuracy: 0.8544 - val_loss: 0.3464\n",
      "Epoch 50/50\n",
      "\u001b[1m640/640\u001b[0m \u001b[32m━━━━━━━━━━━━━━━━━━━━\u001b[0m\u001b[37m\u001b[0m \u001b[1m2s\u001b[0m 2ms/step - accuracy: 0.8681 - loss: 0.3210 - val_accuracy: 0.8556 - val_loss: 0.3493\n"
     ]
    }
   ],
   "source": [
    "history = model.fit(x_train,y_train,epochs=50,validation_split=0.2,batch_size=10)"
   ]
  },
  {
   "cell_type": "code",
   "execution_count": 21,
   "id": "b4057224",
   "metadata": {
    "execution": {
     "iopub.execute_input": "2025-07-05T09:37:42.572624Z",
     "iopub.status.busy": "2025-07-05T09:37:42.572183Z",
     "iopub.status.idle": "2025-07-05T09:37:42.946143Z",
     "shell.execute_reply": "2025-07-05T09:37:42.945291Z"
    },
    "papermill": {
     "duration": 0.457479,
     "end_time": "2025-07-05T09:37:42.947777",
     "exception": false,
     "start_time": "2025-07-05T09:37:42.490298",
     "status": "completed"
    },
    "tags": []
   },
   "outputs": [
    {
     "name": "stdout",
     "output_type": "stream",
     "text": [
      "\u001b[1m63/63\u001b[0m \u001b[32m━━━━━━━━━━━━━━━━━━━━\u001b[0m\u001b[37m\u001b[0m \u001b[1m0s\u001b[0m 3ms/step\n"
     ]
    }
   ],
   "source": [
    "y_pred = model.predict(x_test)"
   ]
  },
  {
   "cell_type": "code",
   "execution_count": 22,
   "id": "19d05bc8",
   "metadata": {
    "execution": {
     "iopub.execute_input": "2025-07-05T09:37:43.105580Z",
     "iopub.status.busy": "2025-07-05T09:37:43.105251Z",
     "iopub.status.idle": "2025-07-05T09:37:43.111675Z",
     "shell.execute_reply": "2025-07-05T09:37:43.110853Z"
    },
    "papermill": {
     "duration": 0.087588,
     "end_time": "2025-07-05T09:37:43.113409",
     "exception": false,
     "start_time": "2025-07-05T09:37:43.025821",
     "status": "completed"
    },
    "tags": []
   },
   "outputs": [
    {
     "data": {
      "text/plain": [
       "array([[0.03012551],\n",
       "       [0.01614669],\n",
       "       [0.09683751],\n",
       "       ...,\n",
       "       [0.5957136 ],\n",
       "       [0.11982838],\n",
       "       [0.22435965]], dtype=float32)"
      ]
     },
     "execution_count": 22,
     "metadata": {},
     "output_type": "execute_result"
    }
   ],
   "source": [
    "y_pred"
   ]
  },
  {
   "cell_type": "code",
   "execution_count": 23,
   "id": "30e19dc7",
   "metadata": {
    "execution": {
     "iopub.execute_input": "2025-07-05T09:37:43.269728Z",
     "iopub.status.busy": "2025-07-05T09:37:43.269434Z",
     "iopub.status.idle": "2025-07-05T09:37:43.274067Z",
     "shell.execute_reply": "2025-07-05T09:37:43.273217Z"
    },
    "papermill": {
     "duration": 0.083262,
     "end_time": "2025-07-05T09:37:43.275590",
     "exception": false,
     "start_time": "2025-07-05T09:37:43.192328",
     "status": "completed"
    },
    "tags": []
   },
   "outputs": [],
   "source": [
    "y_pred = np.where(y_pred>0.5,1,0)"
   ]
  },
  {
   "cell_type": "code",
   "execution_count": 24,
   "id": "bd022190",
   "metadata": {
    "execution": {
     "iopub.execute_input": "2025-07-05T09:37:43.434491Z",
     "iopub.status.busy": "2025-07-05T09:37:43.434079Z",
     "iopub.status.idle": "2025-07-05T09:37:43.440373Z",
     "shell.execute_reply": "2025-07-05T09:37:43.439467Z"
    },
    "papermill": {
     "duration": 0.087877,
     "end_time": "2025-07-05T09:37:43.441668",
     "exception": false,
     "start_time": "2025-07-05T09:37:43.353791",
     "status": "completed"
    },
    "tags": []
   },
   "outputs": [
    {
     "data": {
      "text/plain": [
       "array([[0],\n",
       "       [0],\n",
       "       [0],\n",
       "       ...,\n",
       "       [1],\n",
       "       [0],\n",
       "       [0]])"
      ]
     },
     "execution_count": 24,
     "metadata": {},
     "output_type": "execute_result"
    }
   ],
   "source": [
    "y_pred"
   ]
  },
  {
   "cell_type": "code",
   "execution_count": 25,
   "id": "8148cd23",
   "metadata": {
    "execution": {
     "iopub.execute_input": "2025-07-05T09:37:43.597395Z",
     "iopub.status.busy": "2025-07-05T09:37:43.597069Z",
     "iopub.status.idle": "2025-07-05T09:37:43.605135Z",
     "shell.execute_reply": "2025-07-05T09:37:43.604384Z"
    },
    "papermill": {
     "duration": 0.087824,
     "end_time": "2025-07-05T09:37:43.606421",
     "exception": false,
     "start_time": "2025-07-05T09:37:43.518597",
     "status": "completed"
    },
    "tags": []
   },
   "outputs": [
    {
     "data": {
      "text/plain": [
       "0.8575"
      ]
     },
     "execution_count": 25,
     "metadata": {},
     "output_type": "execute_result"
    }
   ],
   "source": [
    "from sklearn.metrics import accuracy_score \n",
    "\n",
    "score_neural = accuracy_score(y_test, y_pred)\n",
    "score_neural"
   ]
  },
  {
   "cell_type": "code",
   "execution_count": 26,
   "id": "04057eca",
   "metadata": {
    "execution": {
     "iopub.execute_input": "2025-07-05T09:37:43.763509Z",
     "iopub.status.busy": "2025-07-05T09:37:43.763201Z",
     "iopub.status.idle": "2025-07-05T09:37:44.029303Z",
     "shell.execute_reply": "2025-07-05T09:37:44.028340Z"
    },
    "papermill": {
     "duration": 0.347343,
     "end_time": "2025-07-05T09:37:44.030711",
     "exception": false,
     "start_time": "2025-07-05T09:37:43.683368",
     "status": "completed"
    },
    "tags": []
   },
   "outputs": [
    {
     "data": {
      "text/plain": [
       "[<matplotlib.lines.Line2D at 0x7ae8bc500090>]"
      ]
     },
     "execution_count": 26,
     "metadata": {},
     "output_type": "execute_result"
    },
    {
     "data": {
      "image/png": "[encoded data removed]",
      "text/plain": [
       "<Figure size 640x480 with 1 Axes>"
      ]
     },
     "metadata": {},
     "output_type": "display_data"
    }
   ],
   "source": [
    "import matplotlib.pyplot as plt\n",
    "\n",
    "plt.plot(history.history['loss'])\n",
    "\n",
    "plt.plot(history.history['val_loss'])"
   ]
  },
  {
   "cell_type": "code",
   "execution_count": 27,
   "id": "38d6d488",
   "metadata": {
    "execution": {
     "iopub.execute_input": "2025-07-05T09:37:44.190747Z",
     "iopub.status.busy": "2025-07-05T09:37:44.190422Z",
     "iopub.status.idle": "2025-07-05T09:37:44.353182Z",
     "shell.execute_reply": "2025-07-05T09:37:44.352234Z"
    },
    "papermill": {
     "duration": 0.243758,
     "end_time": "2025-07-05T09:37:44.354649",
     "exception": false,
     "start_time": "2025-07-05T09:37:44.110891",
     "status": "completed"
    },
    "tags": []
   },
   "outputs": [
    {
     "data": {
      "text/plain": [
       "[<matplotlib.lines.Line2D at 0x7ae8b4120810>]"
      ]
     },
     "execution_count": 27,
     "metadata": {},
     "output_type": "execute_result"
    },
    {
     "data": {
      "image/png": "[encoded data removed]",
      "text/plain": [
       "<Figure size 640x480 with 1 Axes>"
      ]
     },
     "metadata": {},
     "output_type": "display_data"
    }
   ],
   "source": [
    "plt.plot(history.history[\"accuracy\"])\n",
    "plt.plot(history.history[\"val_accuracy\"])"
   ]
  }
 ],
 "metadata": {
  "kaggle": {
   "accelerator": "none",
   "dataSources": [
    {
     "datasetId": 869651,
     "sourceId": 1481789,
     "sourceType": "datasetVersion"
    }
   ],
   "dockerImageVersionId": 31040,
   "isGpuEnabled": false,
   "isInternetEnabled": true,
   "language": "python",
   "sourceType": "notebook"
  },
  "kernelspec": {
   "display_name": "Python 3",
   "language": "python",
   "name": "python3"
  },
  "language_info": {
   "codemirror_mode": {
    "name": "ipython",
    "version": 3
   },
   "file_extension": ".py",
   "mimetype": "text/x-python",
   "name": "python",
   "nbconvert_exporter": "python",
   "pygments_lexer": "ipython3",
   "version": "3.11.11"
  },
  "papermill": {
   "default_parameters": {},
   "duration": 120.246836,
   "end_time": "2025-07-05T09:37:47.109270",
   "environment_variables": {},
   "exception": null,
   "input_path": "__notebook__.ipynb",
   "output_path": "__notebook__.ipynb",
   "parameters": {},
   "start_time": "2025-07-05T09:35:46.862434",
   "version": "2.6.0"
  }
 },
 "nbformat": 4,
 "nbformat_minor": 5
}
