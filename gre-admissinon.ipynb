{
 "cells": [
  {
   "cell_type": "code",
   "execution_count": 1,
   "id": "cba0a296",
   "metadata": {
    "_cell_guid": "b1076dfc-b9ad-4769-8c92-a6c4dae69d19",
    "_uuid": "8f2839f25d086af736a60e9eeb907d3b93b6e0e5",
    "execution": {
     "iopub.execute_input": "2025-07-06T06:23:17.425422Z",
     "iopub.status.busy": "2025-07-06T06:23:17.425033Z",
     "iopub.status.idle": "2025-07-06T06:23:19.577455Z",
     "shell.execute_reply": "2025-07-06T06:23:19.576318Z"
    },
    "papermill": {
     "duration": 2.160641,
     "end_time": "2025-07-06T06:23:19.579206",
     "exception": false,
     "start_time": "2025-07-06T06:23:17.418565",
     "status": "completed"
    },
    "tags": []
   },
   "outputs": [
    {
     "name": "stdout",
     "output_type": "stream",
     "text": [
      "/kaggle/input/graduate-admissions/Admission_Predict.csv\n",
      "/kaggle/input/graduate-admissions/Admission_Predict_Ver1.1.csv\n"
     ]
    }
   ],
   "source": [
    "# This Python 3 environment comes with many helpful analytics libraries installed\n",
    "# It is defined by the kaggle/python Docker image: https://github.com/kaggle/docker-python\n",
    "# For example, here's several helpful packages to load\n",
    "\n",
    "import numpy as np # linear algebra\n",
    "import pandas as pd # data processing, CSV file I/O (e.g. pd.read_csv)\n",
    "\n",
    "# Input data files are available in the read-only \"../input/\" directory\n",
    "# For example, running this (by clicking run or pressing Shift+Enter) will list all files under the input directory\n",
    "\n",
    "import os\n",
    "for dirname, _, filenames in os.walk('/kaggle/input'):\n",
    "    for filename in filenames:\n",
    "        print(os.path.join(dirname, filename))\n",
    "\n",
    "# You can write up to 20GB to the current directory (/kaggle/working/) that gets preserved as output when you create a version using \"Save & Run All\" \n",
    "# You can also write temporary files to /kaggle/temp/, but they won't be saved outside of the current session"
   ]
  },
  {
   "cell_type": "code",
   "execution_count": 2,
   "id": "01b2b768",
   "metadata": {
    "execution": {
     "iopub.execute_input": "2025-07-06T06:23:19.588766Z",
     "iopub.status.busy": "2025-07-06T06:23:19.588292Z",
     "iopub.status.idle": "2025-07-06T06:23:19.639311Z",
     "shell.execute_reply": "2025-07-06T06:23:19.638275Z"
    },
    "papermill": {
     "duration": 0.057768,
     "end_time": "2025-07-06T06:23:19.641111",
     "exception": false,
     "start_time": "2025-07-06T06:23:19.583343",
     "status": "completed"
    },
    "tags": []
   },
   "outputs": [
    {
     "data": {
      "text/html": [
       "<div>\n",
       "<style scoped>\n",
       "    .dataframe tbody tr th:only-of-type {\n",
       "        vertical-align: middle;\n",
       "    }\n",
       "\n",
       "    .dataframe tbody tr th {\n",
       "        vertical-align: top;\n",
       "    }\n",
       "\n",
       "    .dataframe thead th {\n",
       "        text-align: right;\n",
       "    }\n",
       "</style>\n",
       "<table border=\"1\" class=\"dataframe\">\n",
       "  <thead>\n",
       "    <tr style=\"text-align: right;\">\n",
       "      <th></th>\n",
       "      <th>Serial No.</th>\n",
       "      <th>GRE Score</th>\n",
       "      <th>TOEFL Score</th>\n",
       "      <th>University Rating</th>\n",
       "      <th>SOP</th>\n",
       "      <th>LOR</th>\n",
       "      <th>CGPA</th>\n",
       "      <th>Research</th>\n",
       "      <th>Chance of Admit</th>\n",
       "    </tr>\n",
       "  </thead>\n",
       "  <tbody>\n",
       "    <tr>\n",
       "      <th>0</th>\n",
       "      <td>1</td>\n",
       "      <td>337</td>\n",
       "      <td>118</td>\n",
       "      <td>4</td>\n",
       "      <td>4.5</td>\n",
       "      <td>4.5</td>\n",
       "      <td>9.65</td>\n",
       "      <td>1</td>\n",
       "      <td>0.92</td>\n",
       "    </tr>\n",
       "    <tr>\n",
       "      <th>1</th>\n",
       "      <td>2</td>\n",
       "      <td>324</td>\n",
       "      <td>107</td>\n",
       "      <td>4</td>\n",
       "      <td>4.0</td>\n",
       "      <td>4.5</td>\n",
       "      <td>8.87</td>\n",
       "      <td>1</td>\n",
       "      <td>0.76</td>\n",
       "    </tr>\n",
       "    <tr>\n",
       "      <th>2</th>\n",
       "      <td>3</td>\n",
       "      <td>316</td>\n",
       "      <td>104</td>\n",
       "      <td>3</td>\n",
       "      <td>3.0</td>\n",
       "      <td>3.5</td>\n",
       "      <td>8.00</td>\n",
       "      <td>1</td>\n",
       "      <td>0.72</td>\n",
       "    </tr>\n",
       "    <tr>\n",
       "      <th>3</th>\n",
       "      <td>4</td>\n",
       "      <td>322</td>\n",
       "      <td>110</td>\n",
       "      <td>3</td>\n",
       "      <td>3.5</td>\n",
       "      <td>2.5</td>\n",
       "      <td>8.67</td>\n",
       "      <td>1</td>\n",
       "      <td>0.80</td>\n",
       "    </tr>\n",
       "    <tr>\n",
       "      <th>4</th>\n",
       "      <td>5</td>\n",
       "      <td>314</td>\n",
       "      <td>103</td>\n",
       "      <td>2</td>\n",
       "      <td>2.0</td>\n",
       "      <td>3.0</td>\n",
       "      <td>8.21</td>\n",
       "      <td>0</td>\n",
       "      <td>0.65</td>\n",
       "    </tr>\n",
       "  </tbody>\n",
       "</table>\n",
       "</div>"
      ],
      "text/plain": [
       "   Serial No.  GRE Score  TOEFL Score  University Rating  SOP  LOR   CGPA  \\\n",
       "0           1        337          118                  4  4.5   4.5  9.65   \n",
       "1           2        324          107                  4  4.0   4.5  8.87   \n",
       "2           3        316          104                  3  3.0   3.5  8.00   \n",
       "3           4        322          110                  3  3.5   2.5  8.67   \n",
       "4           5        314          103                  2  2.0   3.0  8.21   \n",
       "\n",
       "   Research  Chance of Admit   \n",
       "0         1              0.92  \n",
       "1         1              0.76  \n",
       "2         1              0.72  \n",
       "3         1              0.80  \n",
       "4         0              0.65  "
      ]
     },
     "execution_count": 2,
     "metadata": {},
     "output_type": "execute_result"
    }
   ],
   "source": [
    "df = pd.read_csv(\"/kaggle/input/graduate-admissions/Admission_Predict_Ver1.1.csv\")\n",
    "df.head()"
   ]
  },
  {
   "cell_type": "code",
   "execution_count": 3,
   "id": "65f3f0ef",
   "metadata": {
    "execution": {
     "iopub.execute_input": "2025-07-06T06:23:19.650738Z",
     "iopub.status.busy": "2025-07-06T06:23:19.650387Z",
     "iopub.status.idle": "2025-07-06T06:23:19.664528Z",
     "shell.execute_reply": "2025-07-06T06:23:19.663333Z"
    },
    "papermill": {
     "duration": 0.020802,
     "end_time": "2025-07-06T06:23:19.666213",
     "exception": false,
     "start_time": "2025-07-06T06:23:19.645411",
     "status": "completed"
    },
    "tags": []
   },
   "outputs": [],
   "source": [
    "df.drop(\"Serial No.\",axis=1, inplace = True)"
   ]
  },
  {
   "cell_type": "code",
   "execution_count": 4,
   "id": "b82de037",
   "metadata": {
    "execution": {
     "iopub.execute_input": "2025-07-06T06:23:19.675930Z",
     "iopub.status.busy": "2025-07-06T06:23:19.675575Z",
     "iopub.status.idle": "2025-07-06T06:23:19.689626Z",
     "shell.execute_reply": "2025-07-06T06:23:19.688558Z"
    },
    "papermill": {
     "duration": 0.021028,
     "end_time": "2025-07-06T06:23:19.691246",
     "exception": false,
     "start_time": "2025-07-06T06:23:19.670218",
     "status": "completed"
    },
    "tags": []
   },
   "outputs": [
    {
     "data": {
      "text/html": [
       "<div>\n",
       "<style scoped>\n",
       "    .dataframe tbody tr th:only-of-type {\n",
       "        vertical-align: middle;\n",
       "    }\n",
       "\n",
       "    .dataframe tbody tr th {\n",
       "        vertical-align: top;\n",
       "    }\n",
       "\n",
       "    .dataframe thead th {\n",
       "        text-align: right;\n",
       "    }\n",
       "</style>\n",
       "<table border=\"1\" class=\"dataframe\">\n",
       "  <thead>\n",
       "    <tr style=\"text-align: right;\">\n",
       "      <th></th>\n",
       "      <th>GRE Score</th>\n",
       "      <th>TOEFL Score</th>\n",
       "      <th>University Rating</th>\n",
       "      <th>SOP</th>\n",
       "      <th>LOR</th>\n",
       "      <th>CGPA</th>\n",
       "      <th>Research</th>\n",
       "      <th>Chance of Admit</th>\n",
       "    </tr>\n",
       "  </thead>\n",
       "  <tbody>\n",
       "    <tr>\n",
       "      <th>0</th>\n",
       "      <td>337</td>\n",
       "      <td>118</td>\n",
       "      <td>4</td>\n",
       "      <td>4.5</td>\n",
       "      <td>4.5</td>\n",
       "      <td>9.65</td>\n",
       "      <td>1</td>\n",
       "      <td>0.92</td>\n",
       "    </tr>\n",
       "    <tr>\n",
       "      <th>1</th>\n",
       "      <td>324</td>\n",
       "      <td>107</td>\n",
       "      <td>4</td>\n",
       "      <td>4.0</td>\n",
       "      <td>4.5</td>\n",
       "      <td>8.87</td>\n",
       "      <td>1</td>\n",
       "      <td>0.76</td>\n",
       "    </tr>\n",
       "    <tr>\n",
       "      <th>2</th>\n",
       "      <td>316</td>\n",
       "      <td>104</td>\n",
       "      <td>3</td>\n",
       "      <td>3.0</td>\n",
       "      <td>3.5</td>\n",
       "      <td>8.00</td>\n",
       "      <td>1</td>\n",
       "      <td>0.72</td>\n",
       "    </tr>\n",
       "    <tr>\n",
       "      <th>3</th>\n",
       "      <td>322</td>\n",
       "      <td>110</td>\n",
       "      <td>3</td>\n",
       "      <td>3.5</td>\n",
       "      <td>2.5</td>\n",
       "      <td>8.67</td>\n",
       "      <td>1</td>\n",
       "      <td>0.80</td>\n",
       "    </tr>\n",
       "    <tr>\n",
       "      <th>4</th>\n",
       "      <td>314</td>\n",
       "      <td>103</td>\n",
       "      <td>2</td>\n",
       "      <td>2.0</td>\n",
       "      <td>3.0</td>\n",
       "      <td>8.21</td>\n",
       "      <td>0</td>\n",
       "      <td>0.65</td>\n",
       "    </tr>\n",
       "  </tbody>\n",
       "</table>\n",
       "</div>"
      ],
      "text/plain": [
       "   GRE Score  TOEFL Score  University Rating  SOP  LOR   CGPA  Research  \\\n",
       "0        337          118                  4  4.5   4.5  9.65         1   \n",
       "1        324          107                  4  4.0   4.5  8.87         1   \n",
       "2        316          104                  3  3.0   3.5  8.00         1   \n",
       "3        322          110                  3  3.5   2.5  8.67         1   \n",
       "4        314          103                  2  2.0   3.0  8.21         0   \n",
       "\n",
       "   Chance of Admit   \n",
       "0              0.92  \n",
       "1              0.76  \n",
       "2              0.72  \n",
       "3              0.80  \n",
       "4              0.65  "
      ]
     },
     "execution_count": 4,
     "metadata": {},
     "output_type": "execute_result"
    }
   ],
   "source": [
    "df.head()"
   ]
  },
  {
   "cell_type": "code",
   "execution_count": 5,
   "id": "4f0bf694",
   "metadata": {
    "execution": {
     "iopub.execute_input": "2025-07-06T06:23:19.701944Z",
     "iopub.status.busy": "2025-07-06T06:23:19.701573Z",
     "iopub.status.idle": "2025-07-06T06:23:19.707872Z",
     "shell.execute_reply": "2025-07-06T06:23:19.706814Z"
    },
    "papermill": {
     "duration": 0.013663,
     "end_time": "2025-07-06T06:23:19.709435",
     "exception": false,
     "start_time": "2025-07-06T06:23:19.695772",
     "status": "completed"
    },
    "tags": []
   },
   "outputs": [
    {
     "data": {
      "text/plain": [
       "(500, 8)"
      ]
     },
     "execution_count": 5,
     "metadata": {},
     "output_type": "execute_result"
    }
   ],
   "source": [
    "df.shape"
   ]
  },
  {
   "cell_type": "code",
   "execution_count": 6,
   "id": "214288fd",
   "metadata": {
    "execution": {
     "iopub.execute_input": "2025-07-06T06:23:19.719626Z",
     "iopub.status.busy": "2025-07-06T06:23:19.719303Z",
     "iopub.status.idle": "2025-07-06T06:23:21.494853Z",
     "shell.execute_reply": "2025-07-06T06:23:21.493776Z"
    },
    "papermill": {
     "duration": 1.78279,
     "end_time": "2025-07-06T06:23:21.496611",
     "exception": false,
     "start_time": "2025-07-06T06:23:19.713821",
     "status": "completed"
    },
    "tags": []
   },
   "outputs": [],
   "source": [
    "from sklearn.model_selection import train_test_split"
   ]
  },
  {
   "cell_type": "code",
   "execution_count": 7,
   "id": "f64008ac",
   "metadata": {
    "execution": {
     "iopub.execute_input": "2025-07-06T06:23:21.506418Z",
     "iopub.status.busy": "2025-07-06T06:23:21.505961Z",
     "iopub.status.idle": "2025-07-06T06:23:21.512134Z",
     "shell.execute_reply": "2025-07-06T06:23:21.511250Z"
    },
    "papermill": {
     "duration": 0.012884,
     "end_time": "2025-07-06T06:23:21.513779",
     "exception": false,
     "start_time": "2025-07-06T06:23:21.500895",
     "status": "completed"
    },
    "tags": []
   },
   "outputs": [],
   "source": [
    "x = df.drop(\"Chance of Admit \",axis=1)\n",
    "y= df[\"Chance of Admit \"]"
   ]
  },
  {
   "cell_type": "code",
   "execution_count": 8,
   "id": "69e39376",
   "metadata": {
    "execution": {
     "iopub.execute_input": "2025-07-06T06:23:21.523537Z",
     "iopub.status.busy": "2025-07-06T06:23:21.523206Z",
     "iopub.status.idle": "2025-07-06T06:23:21.532517Z",
     "shell.execute_reply": "2025-07-06T06:23:21.531549Z"
    },
    "papermill": {
     "duration": 0.015958,
     "end_time": "2025-07-06T06:23:21.534164",
     "exception": false,
     "start_time": "2025-07-06T06:23:21.518206",
     "status": "completed"
    },
    "tags": []
   },
   "outputs": [],
   "source": [
    "x_train , x_test, y_train , y_test = train_test_split(x,y,test_size=0.2,random_state=15)"
   ]
  },
  {
   "cell_type": "code",
   "execution_count": 9,
   "id": "3293370b",
   "metadata": {
    "execution": {
     "iopub.execute_input": "2025-07-06T06:23:21.545346Z",
     "iopub.status.busy": "2025-07-06T06:23:21.545014Z",
     "iopub.status.idle": "2025-07-06T06:23:21.556125Z",
     "shell.execute_reply": "2025-07-06T06:23:21.555174Z"
    },
    "papermill": {
     "duration": 0.018861,
     "end_time": "2025-07-06T06:23:21.557994",
     "exception": false,
     "start_time": "2025-07-06T06:23:21.539133",
     "status": "completed"
    },
    "tags": []
   },
   "outputs": [],
   "source": [
    "from sklearn.preprocessing import StandardScaler \n",
    "\n",
    "scale = StandardScaler()\n",
    "\n",
    "x_train = scale.fit_transform(x_train)\n",
    "\n",
    "x_test = scale.transform(x_test)"
   ]
  },
  {
   "cell_type": "code",
   "execution_count": 10,
   "id": "becd136b",
   "metadata": {
    "execution": {
     "iopub.execute_input": "2025-07-06T06:23:21.567706Z",
     "iopub.status.busy": "2025-07-06T06:23:21.567370Z",
     "iopub.status.idle": "2025-07-06T06:23:21.574495Z",
     "shell.execute_reply": "2025-07-06T06:23:21.573481Z"
    },
    "papermill": {
     "duration": 0.014024,
     "end_time": "2025-07-06T06:23:21.576278",
     "exception": false,
     "start_time": "2025-07-06T06:23:21.562254",
     "status": "completed"
    },
    "tags": []
   },
   "outputs": [
    {
     "data": {
      "text/plain": [
       "array([0.57850047, 0.45828956, 0.79240582, 0.63288482, 1.62496346,\n",
       "       0.5161466 , 0.90453403])"
      ]
     },
     "execution_count": 10,
     "metadata": {},
     "output_type": "execute_result"
    }
   ],
   "source": [
    "x_train[1]"
   ]
  },
  {
   "cell_type": "code",
   "execution_count": 11,
   "id": "9adbbebb",
   "metadata": {
    "execution": {
     "iopub.execute_input": "2025-07-06T06:23:21.586273Z",
     "iopub.status.busy": "2025-07-06T06:23:21.585976Z",
     "iopub.status.idle": "2025-07-06T06:23:39.482069Z",
     "shell.execute_reply": "2025-07-06T06:23:39.481238Z"
    },
    "papermill": {
     "duration": 17.903186,
     "end_time": "2025-07-06T06:23:39.483894",
     "exception": false,
     "start_time": "2025-07-06T06:23:21.580708",
     "status": "completed"
    },
    "tags": []
   },
   "outputs": [
    {
     "name": "stderr",
     "output_type": "stream",
     "text": [
      "2025-07-06 06:23:23.639747: E external/local_xla/xla/stream_executor/cuda/cuda_fft.cc:477] Unable to register cuFFT factory: Attempting to register factory for plugin cuFFT when one has already been registered\n",
      "WARNING: All log messages before absl::InitializeLog() is called are written to STDERR\n",
      "E0000 00:00:1751783003.915131      13 cuda_dnn.cc:8310] Unable to register cuDNN factory: Attempting to register factory for plugin cuDNN when one has already been registered\n",
      "E0000 00:00:1751783003.994907      13 cuda_blas.cc:1418] Unable to register cuBLAS factory: Attempting to register factory for plugin cuBLAS when one has already been registered\n"
     ]
    }
   ],
   "source": [
    "import tensorflow\n",
    "from tensorflow import keras \n",
    "from tensorflow.keras import Sequential \n",
    "from keras.layers import Dense"
   ]
  },
  {
   "cell_type": "code",
   "execution_count": 12,
   "id": "76c137e4",
   "metadata": {
    "execution": {
     "iopub.execute_input": "2025-07-06T06:23:39.494228Z",
     "iopub.status.busy": "2025-07-06T06:23:39.493595Z",
     "iopub.status.idle": "2025-07-06T06:23:39.607769Z",
     "shell.execute_reply": "2025-07-06T06:23:39.606553Z"
    },
    "papermill": {
     "duration": 0.121141,
     "end_time": "2025-07-06T06:23:39.609527",
     "exception": false,
     "start_time": "2025-07-06T06:23:39.488386",
     "status": "completed"
    },
    "tags": []
   },
   "outputs": [
    {
     "name": "stderr",
     "output_type": "stream",
     "text": [
      "/usr/local/lib/python3.11/dist-packages/keras/src/layers/core/dense.py:87: UserWarning: Do not pass an `input_shape`/`input_dim` argument to a layer. When using Sequential models, prefer using an `Input(shape)` object as the first layer in the model instead.\n",
      "  super().__init__(activity_regularizer=activity_regularizer, **kwargs)\n",
      "2025-07-06 06:23:39.506163: E external/local_xla/xla/stream_executor/cuda/cuda_driver.cc:152] failed call to cuInit: INTERNAL: CUDA error: Failed call to cuInit: UNKNOWN ERROR (303)\n"
     ]
    }
   ],
   "source": [
    "model = Sequential()\n",
    "\n",
    "model.add(Dense(12,activation='relu',input_dim=7))\n",
    "\n",
    "model.add(Dense(10,activation='relu'))\n",
    "\n",
    "model.add(Dense(15,activation='relu'))\n",
    "\n",
    "model.add(Dense(1,activation='linear'))\n"
   ]
  },
  {
   "cell_type": "code",
   "execution_count": 13,
   "id": "c022da30",
   "metadata": {
    "execution": {
     "iopub.execute_input": "2025-07-06T06:23:39.619710Z",
     "iopub.status.busy": "2025-07-06T06:23:39.619377Z",
     "iopub.status.idle": "2025-07-06T06:23:39.638150Z",
     "shell.execute_reply": "2025-07-06T06:23:39.637182Z"
    },
    "papermill": {
     "duration": 0.025837,
     "end_time": "2025-07-06T06:23:39.639923",
     "exception": false,
     "start_time": "2025-07-06T06:23:39.614086",
     "status": "completed"
    },
    "tags": []
   },
   "outputs": [
    {
     "data": {
      "text/html": [
       "<pre style=\"white-space:pre;overflow-x:auto;line-height:normal;font-family:Menlo,'DejaVu Sans Mono',consolas,'Courier New',monospace\"><span style=\"font-weight: bold\">Model: \"sequential\"</span>\n",
       "</pre>\n"
      ],
      "text/plain": [
       "\u001b[1mModel: \"sequential\"\u001b[0m\n"
      ]
     },
     "metadata": {},
     "output_type": "display_data"
    },
    {
     "data": {
      "text/html": [
       "<pre style=\"white-space:pre;overflow-x:auto;line-height:normal;font-family:Menlo,'DejaVu Sans Mono',consolas,'Courier New',monospace\">┏━━━━━━━━━━━━━━━━━━━━━━━━━━━━━━━━━━━━━━┳━━━━━━━━━━━━━━━━━━━━━━━━━━━━━┳━━━━━━━━━━━━━━━━━┓\n",
       "┃<span style=\"font-weight: bold\"> Layer (type)                         </span>┃<span style=\"font-weight: bold\"> Output Shape                </span>┃<span style=\"font-weight: bold\">         Param # </span>┃\n",
       "┡━━━━━━━━━━━━━━━━━━━━━━━━━━━━━━━━━━━━━━╇━━━━━━━━━━━━━━━━━━━━━━━━━━━━━╇━━━━━━━━━━━━━━━━━┩\n",
       "│ dense (<span style=\"color: #0087ff; text-decoration-color: #0087ff\">Dense</span>)                        │ (<span style=\"color: #00d7ff; text-decoration-color: #00d7ff\">None</span>, <span style=\"color: #00af00; text-decoration-color: #00af00\">12</span>)                  │              <span style=\"color: #00af00; text-decoration-color: #00af00\">96</span> │\n",
       "├──────────────────────────────────────┼─────────────────────────────┼─────────────────┤\n",
       "│ dense_1 (<span style=\"color: #0087ff; text-decoration-color: #0087ff\">Dense</span>)                      │ (<span style=\"color: #00d7ff; text-decoration-color: #00d7ff\">None</span>, <span style=\"color: #00af00; text-decoration-color: #00af00\">10</span>)                  │             <span style=\"color: #00af00; text-decoration-color: #00af00\">130</span> │\n",
       "├──────────────────────────────────────┼─────────────────────────────┼─────────────────┤\n",
       "│ dense_2 (<span style=\"color: #0087ff; text-decoration-color: #0087ff\">Dense</span>)                      │ (<span style=\"color: #00d7ff; text-decoration-color: #00d7ff\">None</span>, <span style=\"color: #00af00; text-decoration-color: #00af00\">15</span>)                  │             <span style=\"color: #00af00; text-decoration-color: #00af00\">165</span> │\n",
       "├──────────────────────────────────────┼─────────────────────────────┼─────────────────┤\n",
       "│ dense_3 (<span style=\"color: #0087ff; text-decoration-color: #0087ff\">Dense</span>)                      │ (<span style=\"color: #00d7ff; text-decoration-color: #00d7ff\">None</span>, <span style=\"color: #00af00; text-decoration-color: #00af00\">1</span>)                   │              <span style=\"color: #00af00; text-decoration-color: #00af00\">16</span> │\n",
       "└──────────────────────────────────────┴─────────────────────────────┴─────────────────┘\n",
       "</pre>\n"
      ],
      "text/plain": [
       "┏━━━━━━━━━━━━━━━━━━━━━━━━━━━━━━━━━━━━━━┳━━━━━━━━━━━━━━━━━━━━━━━━━━━━━┳━━━━━━━━━━━━━━━━━┓\n",
       "┃\u001b[1m \u001b[0m\u001b[1mLayer (type)                        \u001b[0m\u001b[1m \u001b[0m┃\u001b[1m \u001b[0m\u001b[1mOutput Shape               \u001b[0m\u001b[1m \u001b[0m┃\u001b[1m \u001b[0m\u001b[1m        Param #\u001b[0m\u001b[1m \u001b[0m┃\n",
       "┡━━━━━━━━━━━━━━━━━━━━━━━━━━━━━━━━━━━━━━╇━━━━━━━━━━━━━━━━━━━━━━━━━━━━━╇━━━━━━━━━━━━━━━━━┩\n",
       "│ dense (\u001b[38;5;33mDense\u001b[0m)                        │ (\u001b[38;5;45mNone\u001b[0m, \u001b[38;5;34m12\u001b[0m)                  │              \u001b[38;5;34m96\u001b[0m │\n",
       "├──────────────────────────────────────┼─────────────────────────────┼─────────────────┤\n",
       "│ dense_1 (\u001b[38;5;33mDense\u001b[0m)                      │ (\u001b[38;5;45mNone\u001b[0m, \u001b[38;5;34m10\u001b[0m)                  │             \u001b[38;5;34m130\u001b[0m │\n",
       "├──────────────────────────────────────┼─────────────────────────────┼─────────────────┤\n",
       "│ dense_2 (\u001b[38;5;33mDense\u001b[0m)                      │ (\u001b[38;5;45mNone\u001b[0m, \u001b[38;5;34m15\u001b[0m)                  │             \u001b[38;5;34m165\u001b[0m │\n",
       "├──────────────────────────────────────┼─────────────────────────────┼─────────────────┤\n",
       "│ dense_3 (\u001b[38;5;33mDense\u001b[0m)                      │ (\u001b[38;5;45mNone\u001b[0m, \u001b[38;5;34m1\u001b[0m)                   │              \u001b[38;5;34m16\u001b[0m │\n",
       "└──────────────────────────────────────┴─────────────────────────────┴─────────────────┘\n"
      ]
     },
     "metadata": {},
     "output_type": "display_data"
    },
    {
     "data": {
      "text/html": [
       "<pre style=\"white-space:pre;overflow-x:auto;line-height:normal;font-family:Menlo,'DejaVu Sans Mono',consolas,'Courier New',monospace\"><span style=\"font-weight: bold\"> Total params: </span><span style=\"color: #00af00; text-decoration-color: #00af00\">407</span> (1.59 KB)\n",
       "</pre>\n"
      ],
      "text/plain": [
       "\u001b[1m Total params: \u001b[0m\u001b[38;5;34m407\u001b[0m (1.59 KB)\n"
      ]
     },
     "metadata": {},
     "output_type": "display_data"
    },
    {
     "data": {
      "text/html": [
       "<pre style=\"white-space:pre;overflow-x:auto;line-height:normal;font-family:Menlo,'DejaVu Sans Mono',consolas,'Courier New',monospace\"><span style=\"font-weight: bold\"> Trainable params: </span><span style=\"color: #00af00; text-decoration-color: #00af00\">407</span> (1.59 KB)\n",
       "</pre>\n"
      ],
      "text/plain": [
       "\u001b[1m Trainable params: \u001b[0m\u001b[38;5;34m407\u001b[0m (1.59 KB)\n"
      ]
     },
     "metadata": {},
     "output_type": "display_data"
    },
    {
     "data": {
      "text/html": [
       "<pre style=\"white-space:pre;overflow-x:auto;line-height:normal;font-family:Menlo,'DejaVu Sans Mono',consolas,'Courier New',monospace\"><span style=\"font-weight: bold\"> Non-trainable params: </span><span style=\"color: #00af00; text-decoration-color: #00af00\">0</span> (0.00 B)\n",
       "</pre>\n"
      ],
      "text/plain": [
       "\u001b[1m Non-trainable params: \u001b[0m\u001b[38;5;34m0\u001b[0m (0.00 B)\n"
      ]
     },
     "metadata": {},
     "output_type": "display_data"
    }
   ],
   "source": [
    "model.summary()"
   ]
  },
  {
   "cell_type": "code",
   "execution_count": 14,
   "id": "1bade2d7",
   "metadata": {
    "execution": {
     "iopub.execute_input": "2025-07-06T06:23:39.651407Z",
     "iopub.status.busy": "2025-07-06T06:23:39.651096Z",
     "iopub.status.idle": "2025-07-06T06:23:39.666536Z",
     "shell.execute_reply": "2025-07-06T06:23:39.665443Z"
    },
    "papermill": {
     "duration": 0.023128,
     "end_time": "2025-07-06T06:23:39.668280",
     "exception": false,
     "start_time": "2025-07-06T06:23:39.645152",
     "status": "completed"
    },
    "tags": []
   },
   "outputs": [],
   "source": [
    "model.compile(loss=\"mean_squared_error\", optimizer='Adam', metrics=['r2_score'])\n"
   ]
  },
  {
   "cell_type": "code",
   "execution_count": 15,
   "id": "8e4488c1",
   "metadata": {
    "execution": {
     "iopub.execute_input": "2025-07-06T06:23:39.680176Z",
     "iopub.status.busy": "2025-07-06T06:23:39.679801Z",
     "iopub.status.idle": "2025-07-06T06:23:55.141624Z",
     "shell.execute_reply": "2025-07-06T06:23:55.140627Z"
    },
    "papermill": {
     "duration": 15.470101,
     "end_time": "2025-07-06T06:23:55.143451",
     "exception": false,
     "start_time": "2025-07-06T06:23:39.673350",
     "status": "completed"
    },
    "tags": []
   },
   "outputs": [
    {
     "name": "stdout",
     "output_type": "stream",
     "text": [
      "Epoch 1/100\n",
      "\u001b[1m10/10\u001b[0m \u001b[32m━━━━━━━━━━━━━━━━━━━━\u001b[0m\u001b[37m\u001b[0m \u001b[1m3s\u001b[0m 45ms/step - loss: 0.2304 - r2_score: -10.3831 - val_loss: 0.1548 - val_r2_score: -7.4143\n",
      "Epoch 2/100\n",
      "\u001b[1m10/10\u001b[0m \u001b[32m━━━━━━━━━━━━━━━━━━━━\u001b[0m\u001b[37m\u001b[0m \u001b[1m0s\u001b[0m 10ms/step - loss: 0.1536 - r2_score: -6.3020 - val_loss: 0.1119 - val_r2_score: -5.0805\n",
      "Epoch 3/100\n",
      "\u001b[1m10/10\u001b[0m \u001b[32m━━━━━━━━━━━━━━━━━━━━\u001b[0m\u001b[37m\u001b[0m \u001b[1m0s\u001b[0m 10ms/step - loss: 0.1143 - r2_score: -4.2127 - val_loss: 0.0859 - val_r2_score: -3.6668\n",
      "Epoch 4/100\n",
      "\u001b[1m10/10\u001b[0m \u001b[32m━━━━━━━━━━━━━━━━━━━━\u001b[0m\u001b[37m\u001b[0m \u001b[1m0s\u001b[0m 11ms/step - loss: 0.0889 - r2_score: -3.7267 - val_loss: 0.0656 - val_r2_score: -2.5667\n",
      "Epoch 5/100\n",
      "\u001b[1m10/10\u001b[0m \u001b[32m━━━━━━━━━━━━━━━━━━━━\u001b[0m\u001b[37m\u001b[0m \u001b[1m0s\u001b[0m 10ms/step - loss: 0.0671 - r2_score: -2.3614 - val_loss: 0.0497 - val_r2_score: -1.7021\n",
      "Epoch 6/100\n",
      "\u001b[1m10/10\u001b[0m \u001b[32m━━━━━━━━━━━━━━━━━━━━\u001b[0m\u001b[37m\u001b[0m \u001b[1m0s\u001b[0m 10ms/step - loss: 0.0527 - r2_score: -1.7744 - val_loss: 0.0387 - val_r2_score: -1.1004\n",
      "Epoch 7/100\n",
      "\u001b[1m10/10\u001b[0m \u001b[32m━━━━━━━━━━━━━━━━━━━━\u001b[0m\u001b[37m\u001b[0m \u001b[1m0s\u001b[0m 10ms/step - loss: 0.0442 - r2_score: -1.0365 - val_loss: 0.0302 - val_r2_score: -0.6412\n",
      "Epoch 8/100\n",
      "\u001b[1m10/10\u001b[0m \u001b[32m━━━━━━━━━━━━━━━━━━━━\u001b[0m\u001b[37m\u001b[0m \u001b[1m0s\u001b[0m 10ms/step - loss: 0.0331 - r2_score: -0.6647 - val_loss: 0.0236 - val_r2_score: -0.2801\n",
      "Epoch 9/100\n",
      "\u001b[1m10/10\u001b[0m \u001b[32m━━━━━━━━━━━━━━━━━━━━\u001b[0m\u001b[37m\u001b[0m \u001b[1m0s\u001b[0m 10ms/step - loss: 0.0257 - r2_score: -0.2531 - val_loss: 0.0204 - val_r2_score: -0.1061\n",
      "Epoch 10/100\n",
      "\u001b[1m10/10\u001b[0m \u001b[32m━━━━━━━━━━━━━━━━━━━━\u001b[0m\u001b[37m\u001b[0m \u001b[1m0s\u001b[0m 10ms/step - loss: 0.0232 - r2_score: -0.0969 - val_loss: 0.0167 - val_r2_score: 0.0906\n",
      "Epoch 11/100\n",
      "\u001b[1m10/10\u001b[0m \u001b[32m━━━━━━━━━━━━━━━━━━━━\u001b[0m\u001b[37m\u001b[0m \u001b[1m0s\u001b[0m 10ms/step - loss: 0.0196 - r2_score: 0.0041 - val_loss: 0.0146 - val_r2_score: 0.2045\n",
      "Epoch 12/100\n",
      "\u001b[1m10/10\u001b[0m \u001b[32m━━━━━━━━━━━━━━━━━━━━\u001b[0m\u001b[37m\u001b[0m \u001b[1m0s\u001b[0m 11ms/step - loss: 0.0184 - r2_score: 0.1060 - val_loss: 0.0129 - val_r2_score: 0.3007\n",
      "Epoch 13/100\n",
      "\u001b[1m10/10\u001b[0m \u001b[32m━━━━━━━━━━━━━━━━━━━━\u001b[0m\u001b[37m\u001b[0m \u001b[1m0s\u001b[0m 11ms/step - loss: 0.0153 - r2_score: 0.2943 - val_loss: 0.0113 - val_r2_score: 0.3836\n",
      "Epoch 14/100\n",
      "\u001b[1m10/10\u001b[0m \u001b[32m━━━━━━━━━━━━━━━━━━━━\u001b[0m\u001b[37m\u001b[0m \u001b[1m0s\u001b[0m 11ms/step - loss: 0.0126 - r2_score: 0.4097 - val_loss: 0.0104 - val_r2_score: 0.4364\n",
      "Epoch 15/100\n",
      "\u001b[1m10/10\u001b[0m \u001b[32m━━━━━━━━━━━━━━━━━━━━\u001b[0m\u001b[37m\u001b[0m \u001b[1m0s\u001b[0m 10ms/step - loss: 0.0113 - r2_score: 0.4076 - val_loss: 0.0094 - val_r2_score: 0.4887\n",
      "Epoch 16/100\n",
      "\u001b[1m10/10\u001b[0m \u001b[32m━━━━━━━━━━━━━━━━━━━━\u001b[0m\u001b[37m\u001b[0m \u001b[1m0s\u001b[0m 10ms/step - loss: 0.0113 - r2_score: 0.4569 - val_loss: 0.0088 - val_r2_score: 0.5235\n",
      "Epoch 17/100\n",
      "\u001b[1m10/10\u001b[0m \u001b[32m━━━━━━━━━━━━━━━━━━━━\u001b[0m\u001b[37m\u001b[0m \u001b[1m0s\u001b[0m 10ms/step - loss: 0.0088 - r2_score: 0.5599 - val_loss: 0.0080 - val_r2_score: 0.5644\n",
      "Epoch 18/100\n",
      "\u001b[1m10/10\u001b[0m \u001b[32m━━━━━━━━━━━━━━━━━━━━\u001b[0m\u001b[37m\u001b[0m \u001b[1m0s\u001b[0m 10ms/step - loss: 0.0101 - r2_score: 0.4636 - val_loss: 0.0075 - val_r2_score: 0.5935\n",
      "Epoch 19/100\n",
      "\u001b[1m10/10\u001b[0m \u001b[32m━━━━━━━━━━━━━━━━━━━━\u001b[0m\u001b[37m\u001b[0m \u001b[1m0s\u001b[0m 10ms/step - loss: 0.0087 - r2_score: 0.5559 - val_loss: 0.0070 - val_r2_score: 0.6190\n",
      "Epoch 20/100\n",
      "\u001b[1m10/10\u001b[0m \u001b[32m━━━━━━━━━━━━━━━━━━━━\u001b[0m\u001b[37m\u001b[0m \u001b[1m0s\u001b[0m 10ms/step - loss: 0.0078 - r2_score: 0.6080 - val_loss: 0.0066 - val_r2_score: 0.6406\n",
      "Epoch 21/100\n",
      "\u001b[1m10/10\u001b[0m \u001b[32m━━━━━━━━━━━━━━━━━━━━\u001b[0m\u001b[37m\u001b[0m \u001b[1m0s\u001b[0m 10ms/step - loss: 0.0068 - r2_score: 0.6642 - val_loss: 0.0063 - val_r2_score: 0.6580\n",
      "Epoch 22/100\n",
      "\u001b[1m10/10\u001b[0m \u001b[32m━━━━━━━━━━━━━━━━━━━━\u001b[0m\u001b[37m\u001b[0m \u001b[1m0s\u001b[0m 10ms/step - loss: 0.0063 - r2_score: 0.6959 - val_loss: 0.0061 - val_r2_score: 0.6709\n",
      "Epoch 23/100\n",
      "\u001b[1m10/10\u001b[0m \u001b[32m━━━━━━━━━━━━━━━━━━━━\u001b[0m\u001b[37m\u001b[0m \u001b[1m0s\u001b[0m 10ms/step - loss: 0.0071 - r2_score: 0.6073 - val_loss: 0.0058 - val_r2_score: 0.6869\n",
      "Epoch 24/100\n",
      "\u001b[1m10/10\u001b[0m \u001b[32m━━━━━━━━━━━━━━━━━━━━\u001b[0m\u001b[37m\u001b[0m \u001b[1m0s\u001b[0m 11ms/step - loss: 0.0059 - r2_score: 0.7133 - val_loss: 0.0056 - val_r2_score: 0.6978\n",
      "Epoch 25/100\n",
      "\u001b[1m10/10\u001b[0m \u001b[32m━━━━━━━━━━━━━━━━━━━━\u001b[0m\u001b[37m\u001b[0m \u001b[1m0s\u001b[0m 10ms/step - loss: 0.0066 - r2_score: 0.6415 - val_loss: 0.0054 - val_r2_score: 0.7086\n",
      "Epoch 26/100\n",
      "\u001b[1m10/10\u001b[0m \u001b[32m━━━━━━━━━━━━━━━━━━━━\u001b[0m\u001b[37m\u001b[0m \u001b[1m0s\u001b[0m 11ms/step - loss: 0.0065 - r2_score: 0.6749 - val_loss: 0.0052 - val_r2_score: 0.7175\n",
      "Epoch 27/100\n",
      "\u001b[1m10/10\u001b[0m \u001b[32m━━━━━━━━━━━━━━━━━━━━\u001b[0m\u001b[37m\u001b[0m \u001b[1m0s\u001b[0m 11ms/step - loss: 0.0060 - r2_score: 0.7116 - val_loss: 0.0051 - val_r2_score: 0.7255\n",
      "Epoch 28/100\n",
      "\u001b[1m10/10\u001b[0m \u001b[32m━━━━━━━━━━━━━━━━━━━━\u001b[0m\u001b[37m\u001b[0m \u001b[1m0s\u001b[0m 10ms/step - loss: 0.0056 - r2_score: 0.7196 - val_loss: 0.0051 - val_r2_score: 0.7241\n",
      "Epoch 29/100\n",
      "\u001b[1m10/10\u001b[0m \u001b[32m━━━━━━━━━━━━━━━━━━━━\u001b[0m\u001b[37m\u001b[0m \u001b[1m0s\u001b[0m 10ms/step - loss: 0.0056 - r2_score: 0.7290 - val_loss: 0.0049 - val_r2_score: 0.7360\n",
      "Epoch 30/100\n",
      "\u001b[1m10/10\u001b[0m \u001b[32m━━━━━━━━━━━━━━━━━━━━\u001b[0m\u001b[37m\u001b[0m \u001b[1m0s\u001b[0m 10ms/step - loss: 0.0052 - r2_score: 0.7317 - val_loss: 0.0047 - val_r2_score: 0.7421\n",
      "Epoch 31/100\n",
      "\u001b[1m10/10\u001b[0m \u001b[32m━━━━━━━━━━━━━━━━━━━━\u001b[0m\u001b[37m\u001b[0m \u001b[1m0s\u001b[0m 10ms/step - loss: 0.0051 - r2_score: 0.7253 - val_loss: 0.0046 - val_r2_score: 0.7477\n",
      "Epoch 32/100\n",
      "\u001b[1m10/10\u001b[0m \u001b[32m━━━━━━━━━━━━━━━━━━━━\u001b[0m\u001b[37m\u001b[0m \u001b[1m0s\u001b[0m 10ms/step - loss: 0.0049 - r2_score: 0.7779 - val_loss: 0.0046 - val_r2_score: 0.7504\n",
      "Epoch 33/100\n",
      "\u001b[1m10/10\u001b[0m \u001b[32m━━━━━━━━━━━━━━━━━━━━\u001b[0m\u001b[37m\u001b[0m \u001b[1m0s\u001b[0m 10ms/step - loss: 0.0055 - r2_score: 0.7403 - val_loss: 0.0045 - val_r2_score: 0.7548\n",
      "Epoch 34/100\n",
      "\u001b[1m10/10\u001b[0m \u001b[32m━━━━━━━━━━━━━━━━━━━━\u001b[0m\u001b[37m\u001b[0m \u001b[1m0s\u001b[0m 10ms/step - loss: 0.0049 - r2_score: 0.7731 - val_loss: 0.0045 - val_r2_score: 0.7575\n",
      "Epoch 35/100\n",
      "\u001b[1m10/10\u001b[0m \u001b[32m━━━━━━━━━━━━━━━━━━━━\u001b[0m\u001b[37m\u001b[0m \u001b[1m0s\u001b[0m 10ms/step - loss: 0.0046 - r2_score: 0.7789 - val_loss: 0.0044 - val_r2_score: 0.7605\n",
      "Epoch 36/100\n",
      "\u001b[1m10/10\u001b[0m \u001b[32m━━━━━━━━━━━━━━━━━━━━\u001b[0m\u001b[37m\u001b[0m \u001b[1m0s\u001b[0m 10ms/step - loss: 0.0048 - r2_score: 0.7628 - val_loss: 0.0044 - val_r2_score: 0.7600\n",
      "Epoch 37/100\n",
      "\u001b[1m10/10\u001b[0m \u001b[32m━━━━━━━━━━━━━━━━━━━━\u001b[0m\u001b[37m\u001b[0m \u001b[1m0s\u001b[0m 11ms/step - loss: 0.0055 - r2_score: 0.7392 - val_loss: 0.0043 - val_r2_score: 0.7655\n",
      "Epoch 38/100\n",
      "\u001b[1m10/10\u001b[0m \u001b[32m━━━━━━━━━━━━━━━━━━━━\u001b[0m\u001b[37m\u001b[0m \u001b[1m0s\u001b[0m 10ms/step - loss: 0.0045 - r2_score: 0.7897 - val_loss: 0.0043 - val_r2_score: 0.7681\n",
      "Epoch 39/100\n",
      "\u001b[1m10/10\u001b[0m \u001b[32m━━━━━━━━━━━━━━━━━━━━\u001b[0m\u001b[37m\u001b[0m \u001b[1m0s\u001b[0m 10ms/step - loss: 0.0050 - r2_score: 0.7654 - val_loss: 0.0042 - val_r2_score: 0.7697\n",
      "Epoch 40/100\n",
      "\u001b[1m10/10\u001b[0m \u001b[32m━━━━━━━━━━━━━━━━━━━━\u001b[0m\u001b[37m\u001b[0m \u001b[1m0s\u001b[0m 10ms/step - loss: 0.0051 - r2_score: 0.7400 - val_loss: 0.0042 - val_r2_score: 0.7713\n",
      "Epoch 41/100\n",
      "\u001b[1m10/10\u001b[0m \u001b[32m━━━━━━━━━━━━━━━━━━━━\u001b[0m\u001b[37m\u001b[0m \u001b[1m0s\u001b[0m 11ms/step - loss: 0.0041 - r2_score: 0.8076 - val_loss: 0.0042 - val_r2_score: 0.7691\n",
      "Epoch 42/100\n",
      "\u001b[1m10/10\u001b[0m \u001b[32m━━━━━━━━━━━━━━━━━━━━\u001b[0m\u001b[37m\u001b[0m \u001b[1m0s\u001b[0m 10ms/step - loss: 0.0045 - r2_score: 0.8014 - val_loss: 0.0041 - val_r2_score: 0.7754\n",
      "Epoch 43/100\n",
      "\u001b[1m10/10\u001b[0m \u001b[32m━━━━━━━━━━━━━━━━━━━━\u001b[0m\u001b[37m\u001b[0m \u001b[1m0s\u001b[0m 10ms/step - loss: 0.0044 - r2_score: 0.7742 - val_loss: 0.0041 - val_r2_score: 0.7760\n",
      "Epoch 44/100\n",
      "\u001b[1m10/10\u001b[0m \u001b[32m━━━━━━━━━━━━━━━━━━━━\u001b[0m\u001b[37m\u001b[0m \u001b[1m0s\u001b[0m 10ms/step - loss: 0.0050 - r2_score: 0.7770 - val_loss: 0.0041 - val_r2_score: 0.7788\n",
      "Epoch 45/100\n",
      "\u001b[1m10/10\u001b[0m \u001b[32m━━━━━━━━━━━━━━━━━━━━\u001b[0m\u001b[37m\u001b[0m \u001b[1m0s\u001b[0m 10ms/step - loss: 0.0048 - r2_score: 0.7762 - val_loss: 0.0041 - val_r2_score: 0.7794\n",
      "Epoch 46/100\n",
      "\u001b[1m10/10\u001b[0m \u001b[32m━━━━━━━━━━━━━━━━━━━━\u001b[0m\u001b[37m\u001b[0m \u001b[1m0s\u001b[0m 10ms/step - loss: 0.0044 - r2_score: 0.7849 - val_loss: 0.0040 - val_r2_score: 0.7811\n",
      "Epoch 47/100\n",
      "\u001b[1m10/10\u001b[0m \u001b[32m━━━━━━━━━━━━━━━━━━━━\u001b[0m\u001b[37m\u001b[0m \u001b[1m0s\u001b[0m 10ms/step - loss: 0.0046 - r2_score: 0.7789 - val_loss: 0.0040 - val_r2_score: 0.7831\n",
      "Epoch 48/100\n",
      "\u001b[1m10/10\u001b[0m \u001b[32m━━━━━━━━━━━━━━━━━━━━\u001b[0m\u001b[37m\u001b[0m \u001b[1m0s\u001b[0m 10ms/step - loss: 0.0042 - r2_score: 0.8067 - val_loss: 0.0040 - val_r2_score: 0.7844\n",
      "Epoch 49/100\n",
      "\u001b[1m10/10\u001b[0m \u001b[32m━━━━━━━━━━━━━━━━━━━━\u001b[0m\u001b[37m\u001b[0m \u001b[1m0s\u001b[0m 10ms/step - loss: 0.0044 - r2_score: 0.7841 - val_loss: 0.0039 - val_r2_score: 0.7855\n",
      "Epoch 50/100\n",
      "\u001b[1m10/10\u001b[0m \u001b[32m━━━━━━━━━━━━━━━━━━━━\u001b[0m\u001b[37m\u001b[0m \u001b[1m0s\u001b[0m 10ms/step - loss: 0.0042 - r2_score: 0.8043 - val_loss: 0.0039 - val_r2_score: 0.7870\n",
      "Epoch 51/100\n",
      "\u001b[1m10/10\u001b[0m \u001b[32m━━━━━━━━━━━━━━━━━━━━\u001b[0m\u001b[37m\u001b[0m \u001b[1m0s\u001b[0m 10ms/step - loss: 0.0042 - r2_score: 0.7933 - val_loss: 0.0040 - val_r2_score: 0.7828\n",
      "Epoch 52/100\n",
      "\u001b[1m10/10\u001b[0m \u001b[32m━━━━━━━━━━━━━━━━━━━━\u001b[0m\u001b[37m\u001b[0m \u001b[1m0s\u001b[0m 10ms/step - loss: 0.0041 - r2_score: 0.7918 - val_loss: 0.0039 - val_r2_score: 0.7896\n",
      "Epoch 53/100\n",
      "\u001b[1m10/10\u001b[0m \u001b[32m━━━━━━━━━━━━━━━━━━━━\u001b[0m\u001b[37m\u001b[0m \u001b[1m0s\u001b[0m 11ms/step - loss: 0.0044 - r2_score: 0.7935 - val_loss: 0.0038 - val_r2_score: 0.7912\n",
      "Epoch 54/100\n",
      "\u001b[1m10/10\u001b[0m \u001b[32m━━━━━━━━━━━━━━━━━━━━\u001b[0m\u001b[37m\u001b[0m \u001b[1m0s\u001b[0m 13ms/step - loss: 0.0041 - r2_score: 0.8058 - val_loss: 0.0038 - val_r2_score: 0.7919\n",
      "Epoch 55/100\n",
      "\u001b[1m10/10\u001b[0m \u001b[32m━━━━━━━━━━━━━━━━━━━━\u001b[0m\u001b[37m\u001b[0m \u001b[1m0s\u001b[0m 10ms/step - loss: 0.0042 - r2_score: 0.7902 - val_loss: 0.0038 - val_r2_score: 0.7914\n",
      "Epoch 56/100\n",
      "\u001b[1m10/10\u001b[0m \u001b[32m━━━━━━━━━━━━━━━━━━━━\u001b[0m\u001b[37m\u001b[0m \u001b[1m0s\u001b[0m 11ms/step - loss: 0.0036 - r2_score: 0.8241 - val_loss: 0.0038 - val_r2_score: 0.7940\n",
      "Epoch 57/100\n",
      "\u001b[1m10/10\u001b[0m \u001b[32m━━━━━━━━━━━━━━━━━━━━\u001b[0m\u001b[37m\u001b[0m \u001b[1m0s\u001b[0m 11ms/step - loss: 0.0038 - r2_score: 0.8170 - val_loss: 0.0037 - val_r2_score: 0.7971\n",
      "Epoch 58/100\n",
      "\u001b[1m10/10\u001b[0m \u001b[32m━━━━━━━━━━━━━━━━━━━━\u001b[0m\u001b[37m\u001b[0m \u001b[1m0s\u001b[0m 10ms/step - loss: 0.0035 - r2_score: 0.8133 - val_loss: 0.0037 - val_r2_score: 0.7976\n",
      "Epoch 59/100\n",
      "\u001b[1m10/10\u001b[0m \u001b[32m━━━━━━━━━━━━━━━━━━━━\u001b[0m\u001b[37m\u001b[0m \u001b[1m0s\u001b[0m 10ms/step - loss: 0.0036 - r2_score: 0.8071 - val_loss: 0.0037 - val_r2_score: 0.7986\n",
      "Epoch 60/100\n",
      "\u001b[1m10/10\u001b[0m \u001b[32m━━━━━━━━━━━━━━━━━━━━\u001b[0m\u001b[37m\u001b[0m \u001b[1m0s\u001b[0m 10ms/step - loss: 0.0036 - r2_score: 0.8266 - val_loss: 0.0036 - val_r2_score: 0.8023\n",
      "Epoch 61/100\n",
      "\u001b[1m10/10\u001b[0m \u001b[32m━━━━━━━━━━━━━━━━━━━━\u001b[0m\u001b[37m\u001b[0m \u001b[1m0s\u001b[0m 10ms/step - loss: 0.0042 - r2_score: 0.8227 - val_loss: 0.0036 - val_r2_score: 0.8036\n",
      "Epoch 62/100\n",
      "\u001b[1m10/10\u001b[0m \u001b[32m━━━━━━━━━━━━━━━━━━━━\u001b[0m\u001b[37m\u001b[0m \u001b[1m0s\u001b[0m 11ms/step - loss: 0.0034 - r2_score: 0.8339 - val_loss: 0.0037 - val_r2_score: 0.8016\n",
      "Epoch 63/100\n",
      "\u001b[1m10/10\u001b[0m \u001b[32m━━━━━━━━━━━━━━━━━━━━\u001b[0m\u001b[37m\u001b[0m \u001b[1m0s\u001b[0m 10ms/step - loss: 0.0037 - r2_score: 0.8139 - val_loss: 0.0036 - val_r2_score: 0.8033\n",
      "Epoch 64/100\n",
      "\u001b[1m10/10\u001b[0m \u001b[32m━━━━━━━━━━━━━━━━━━━━\u001b[0m\u001b[37m\u001b[0m \u001b[1m0s\u001b[0m 11ms/step - loss: 0.0034 - r2_score: 0.8417 - val_loss: 0.0037 - val_r2_score: 0.7998\n",
      "Epoch 65/100\n",
      "\u001b[1m10/10\u001b[0m \u001b[32m━━━━━━━━━━━━━━━━━━━━\u001b[0m\u001b[37m\u001b[0m \u001b[1m0s\u001b[0m 10ms/step - loss: 0.0035 - r2_score: 0.8296 - val_loss: 0.0036 - val_r2_score: 0.8059\n",
      "Epoch 66/100\n",
      "\u001b[1m10/10\u001b[0m \u001b[32m━━━━━━━━━━━━━━━━━━━━\u001b[0m\u001b[37m\u001b[0m \u001b[1m0s\u001b[0m 10ms/step - loss: 0.0036 - r2_score: 0.8114 - val_loss: 0.0036 - val_r2_score: 0.8067\n",
      "Epoch 67/100\n",
      "\u001b[1m10/10\u001b[0m \u001b[32m━━━━━━━━━━━━━━━━━━━━\u001b[0m\u001b[37m\u001b[0m \u001b[1m0s\u001b[0m 10ms/step - loss: 0.0034 - r2_score: 0.8303 - val_loss: 0.0035 - val_r2_score: 0.8080\n",
      "Epoch 68/100\n",
      "\u001b[1m10/10\u001b[0m \u001b[32m━━━━━━━━━━━━━━━━━━━━\u001b[0m\u001b[37m\u001b[0m \u001b[1m0s\u001b[0m 10ms/step - loss: 0.0036 - r2_score: 0.8303 - val_loss: 0.0035 - val_r2_score: 0.8080\n",
      "Epoch 69/100\n",
      "\u001b[1m10/10\u001b[0m \u001b[32m━━━━━━━━━━━━━━━━━━━━\u001b[0m\u001b[37m\u001b[0m \u001b[1m0s\u001b[0m 10ms/step - loss: 0.0033 - r2_score: 0.8358 - val_loss: 0.0036 - val_r2_score: 0.8060\n",
      "Epoch 70/100\n",
      "\u001b[1m10/10\u001b[0m \u001b[32m━━━━━━━━━━━━━━━━━━━━\u001b[0m\u001b[37m\u001b[0m \u001b[1m0s\u001b[0m 10ms/step - loss: 0.0036 - r2_score: 0.8279 - val_loss: 0.0035 - val_r2_score: 0.8100\n",
      "Epoch 71/100\n",
      "\u001b[1m10/10\u001b[0m \u001b[32m━━━━━━━━━━━━━━━━━━━━\u001b[0m\u001b[37m\u001b[0m \u001b[1m0s\u001b[0m 10ms/step - loss: 0.0033 - r2_score: 0.8334 - val_loss: 0.0036 - val_r2_score: 0.8069\n",
      "Epoch 72/100\n",
      "\u001b[1m10/10\u001b[0m \u001b[32m━━━━━━━━━━━━━━━━━━━━\u001b[0m\u001b[37m\u001b[0m \u001b[1m0s\u001b[0m 11ms/step - loss: 0.0039 - r2_score: 0.8143 - val_loss: 0.0035 - val_r2_score: 0.8109\n",
      "Epoch 73/100\n",
      "\u001b[1m10/10\u001b[0m \u001b[32m━━━━━━━━━━━━━━━━━━━━\u001b[0m\u001b[37m\u001b[0m \u001b[1m0s\u001b[0m 10ms/step - loss: 0.0033 - r2_score: 0.8236 - val_loss: 0.0036 - val_r2_score: 0.8054\n",
      "Epoch 74/100\n",
      "\u001b[1m10/10\u001b[0m \u001b[32m━━━━━━━━━━━━━━━━━━━━\u001b[0m\u001b[37m\u001b[0m \u001b[1m0s\u001b[0m 10ms/step - loss: 0.0033 - r2_score: 0.8321 - val_loss: 0.0034 - val_r2_score: 0.8125\n",
      "Epoch 75/100\n",
      "\u001b[1m10/10\u001b[0m \u001b[32m━━━━━━━━━━━━━━━━━━━━\u001b[0m\u001b[37m\u001b[0m \u001b[1m0s\u001b[0m 11ms/step - loss: 0.0038 - r2_score: 0.8089 - val_loss: 0.0034 - val_r2_score: 0.8130\n",
      "Epoch 76/100\n",
      "\u001b[1m10/10\u001b[0m \u001b[32m━━━━━━━━━━━━━━━━━━━━\u001b[0m\u001b[37m\u001b[0m \u001b[1m0s\u001b[0m 10ms/step - loss: 0.0035 - r2_score: 0.8431 - val_loss: 0.0034 - val_r2_score: 0.8134\n",
      "Epoch 77/100\n",
      "\u001b[1m10/10\u001b[0m \u001b[32m━━━━━━━━━━━━━━━━━━━━\u001b[0m\u001b[37m\u001b[0m \u001b[1m0s\u001b[0m 10ms/step - loss: 0.0034 - r2_score: 0.8375 - val_loss: 0.0034 - val_r2_score: 0.8145\n",
      "Epoch 78/100\n",
      "\u001b[1m10/10\u001b[0m \u001b[32m━━━━━━━━━━━━━━━━━━━━\u001b[0m\u001b[37m\u001b[0m \u001b[1m0s\u001b[0m 11ms/step - loss: 0.0038 - r2_score: 0.8218 - val_loss: 0.0034 - val_r2_score: 0.8145\n",
      "Epoch 79/100\n",
      "\u001b[1m10/10\u001b[0m \u001b[32m━━━━━━━━━━━━━━━━━━━━\u001b[0m\u001b[37m\u001b[0m \u001b[1m0s\u001b[0m 10ms/step - loss: 0.0033 - r2_score: 0.8510 - val_loss: 0.0034 - val_r2_score: 0.8141\n",
      "Epoch 80/100\n",
      "\u001b[1m10/10\u001b[0m \u001b[32m━━━━━━━━━━━━━━━━━━━━\u001b[0m\u001b[37m\u001b[0m \u001b[1m0s\u001b[0m 10ms/step - loss: 0.0037 - r2_score: 0.8158 - val_loss: 0.0034 - val_r2_score: 0.8158\n",
      "Epoch 81/100\n",
      "\u001b[1m10/10\u001b[0m \u001b[32m━━━━━━━━━━━━━━━━━━━━\u001b[0m\u001b[37m\u001b[0m \u001b[1m0s\u001b[0m 10ms/step - loss: 0.0035 - r2_score: 0.8289 - val_loss: 0.0035 - val_r2_score: 0.8081\n",
      "Epoch 82/100\n",
      "\u001b[1m10/10\u001b[0m \u001b[32m━━━━━━━━━━━━━━━━━━━━\u001b[0m\u001b[37m\u001b[0m \u001b[1m0s\u001b[0m 11ms/step - loss: 0.0037 - r2_score: 0.8232 - val_loss: 0.0034 - val_r2_score: 0.8169\n",
      "Epoch 83/100\n",
      "\u001b[1m10/10\u001b[0m \u001b[32m━━━━━━━━━━━━━━━━━━━━\u001b[0m\u001b[37m\u001b[0m \u001b[1m0s\u001b[0m 10ms/step - loss: 0.0033 - r2_score: 0.8226 - val_loss: 0.0034 - val_r2_score: 0.8167\n",
      "Epoch 84/100\n",
      "\u001b[1m10/10\u001b[0m \u001b[32m━━━━━━━━━━━━━━━━━━━━\u001b[0m\u001b[37m\u001b[0m \u001b[1m0s\u001b[0m 11ms/step - loss: 0.0036 - r2_score: 0.8361 - val_loss: 0.0034 - val_r2_score: 0.8164\n",
      "Epoch 85/100\n",
      "\u001b[1m10/10\u001b[0m \u001b[32m━━━━━━━━━━━━━━━━━━━━\u001b[0m\u001b[37m\u001b[0m \u001b[1m0s\u001b[0m 11ms/step - loss: 0.0035 - r2_score: 0.8259 - val_loss: 0.0033 - val_r2_score: 0.8180\n",
      "Epoch 86/100\n",
      "\u001b[1m10/10\u001b[0m \u001b[32m━━━━━━━━━━━━━━━━━━━━\u001b[0m\u001b[37m\u001b[0m \u001b[1m0s\u001b[0m 11ms/step - loss: 0.0033 - r2_score: 0.8374 - val_loss: 0.0033 - val_r2_score: 0.8183\n",
      "Epoch 87/100\n",
      "\u001b[1m10/10\u001b[0m \u001b[32m━━━━━━━━━━━━━━━━━━━━\u001b[0m\u001b[37m\u001b[0m \u001b[1m0s\u001b[0m 11ms/step - loss: 0.0038 - r2_score: 0.7984 - val_loss: 0.0034 - val_r2_score: 0.8145\n",
      "Epoch 88/100\n",
      "\u001b[1m10/10\u001b[0m \u001b[32m━━━━━━━━━━━━━━━━━━━━\u001b[0m\u001b[37m\u001b[0m \u001b[1m0s\u001b[0m 11ms/step - loss: 0.0033 - r2_score: 0.8420 - val_loss: 0.0033 - val_r2_score: 0.8193\n",
      "Epoch 89/100\n",
      "\u001b[1m10/10\u001b[0m \u001b[32m━━━━━━━━━━━━━━━━━━━━\u001b[0m\u001b[37m\u001b[0m \u001b[1m0s\u001b[0m 11ms/step - loss: 0.0034 - r2_score: 0.8234 - val_loss: 0.0033 - val_r2_score: 0.8199\n",
      "Epoch 90/100\n",
      "\u001b[1m10/10\u001b[0m \u001b[32m━━━━━━━━━━━━━━━━━━━━\u001b[0m\u001b[37m\u001b[0m \u001b[1m0s\u001b[0m 10ms/step - loss: 0.0033 - r2_score: 0.8476 - val_loss: 0.0034 - val_r2_score: 0.8141\n",
      "Epoch 91/100\n",
      "\u001b[1m10/10\u001b[0m \u001b[32m━━━━━━━━━━━━━━━━━━━━\u001b[0m\u001b[37m\u001b[0m \u001b[1m0s\u001b[0m 10ms/step - loss: 0.0029 - r2_score: 0.8503 - val_loss: 0.0033 - val_r2_score: 0.8191\n",
      "Epoch 92/100\n",
      "\u001b[1m10/10\u001b[0m \u001b[32m━━━━━━━━━━━━━━━━━━━━\u001b[0m\u001b[37m\u001b[0m \u001b[1m0s\u001b[0m 11ms/step - loss: 0.0031 - r2_score: 0.8507 - val_loss: 0.0034 - val_r2_score: 0.8178\n",
      "Epoch 93/100\n",
      "\u001b[1m10/10\u001b[0m \u001b[32m━━━━━━━━━━━━━━━━━━━━\u001b[0m\u001b[37m\u001b[0m \u001b[1m0s\u001b[0m 11ms/step - loss: 0.0033 - r2_score: 0.8415 - val_loss: 0.0033 - val_r2_score: 0.8207\n",
      "Epoch 94/100\n",
      "\u001b[1m10/10\u001b[0m \u001b[32m━━━━━━━━━━━━━━━━━━━━\u001b[0m\u001b[37m\u001b[0m \u001b[1m0s\u001b[0m 11ms/step - loss: 0.0030 - r2_score: 0.8444 - val_loss: 0.0033 - val_r2_score: 0.8199\n",
      "Epoch 95/100\n",
      "\u001b[1m10/10\u001b[0m \u001b[32m━━━━━━━━━━━━━━━━━━━━\u001b[0m\u001b[37m\u001b[0m \u001b[1m0s\u001b[0m 10ms/step - loss: 0.0037 - r2_score: 0.8187 - val_loss: 0.0033 - val_r2_score: 0.8214\n",
      "Epoch 96/100\n",
      "\u001b[1m10/10\u001b[0m \u001b[32m━━━━━━━━━━━━━━━━━━━━\u001b[0m\u001b[37m\u001b[0m \u001b[1m0s\u001b[0m 10ms/step - loss: 0.0035 - r2_score: 0.8258 - val_loss: 0.0033 - val_r2_score: 0.8215\n",
      "Epoch 97/100\n",
      "\u001b[1m10/10\u001b[0m \u001b[32m━━━━━━━━━━━━━━━━━━━━\u001b[0m\u001b[37m\u001b[0m \u001b[1m0s\u001b[0m 10ms/step - loss: 0.0033 - r2_score: 0.8447 - val_loss: 0.0033 - val_r2_score: 0.8203\n",
      "Epoch 98/100\n",
      "\u001b[1m10/10\u001b[0m \u001b[32m━━━━━━━━━━━━━━━━━━━━\u001b[0m\u001b[37m\u001b[0m \u001b[1m0s\u001b[0m 10ms/step - loss: 0.0032 - r2_score: 0.8397 - val_loss: 0.0033 - val_r2_score: 0.8219\n",
      "Epoch 99/100\n",
      "\u001b[1m10/10\u001b[0m \u001b[32m━━━━━━━━━━━━━━━━━━━━\u001b[0m\u001b[37m\u001b[0m \u001b[1m0s\u001b[0m 10ms/step - loss: 0.0037 - r2_score: 0.8267 - val_loss: 0.0033 - val_r2_score: 0.8223\n",
      "Epoch 100/100\n",
      "\u001b[1m10/10\u001b[0m \u001b[32m━━━━━━━━━━━━━━━━━━━━\u001b[0m\u001b[37m\u001b[0m \u001b[1m0s\u001b[0m 10ms/step - loss: 0.0034 - r2_score: 0.8477 - val_loss: 0.0034 - val_r2_score: 0.8171\n"
     ]
    }
   ],
   "source": [
    "history = model.fit(x_train,y_train,validation_split=0.2,epochs=100)"
   ]
  },
  {
   "cell_type": "code",
   "execution_count": 16,
   "id": "39cd514e",
   "metadata": {
    "execution": {
     "iopub.execute_input": "2025-07-06T06:23:55.185004Z",
     "iopub.status.busy": "2025-07-06T06:23:55.184665Z",
     "iopub.status.idle": "2025-07-06T06:23:55.416619Z",
     "shell.execute_reply": "2025-07-06T06:23:55.415567Z"
    },
    "papermill": {
     "duration": 0.254797,
     "end_time": "2025-07-06T06:23:55.418515",
     "exception": false,
     "start_time": "2025-07-06T06:23:55.163718",
     "status": "completed"
    },
    "tags": []
   },
   "outputs": [
    {
     "name": "stdout",
     "output_type": "stream",
     "text": [
      "\u001b[1m4/4\u001b[0m \u001b[32m━━━━━━━━━━━━━━━━━━━━\u001b[0m\u001b[37m\u001b[0m \u001b[1m0s\u001b[0m 25ms/step\n"
     ]
    }
   ],
   "source": [
    "y_pre = model.predict(x_test)"
   ]
  },
  {
   "cell_type": "code",
   "execution_count": 17,
   "id": "d24c6707",
   "metadata": {
    "execution": {
     "iopub.execute_input": "2025-07-06T06:23:55.457969Z",
     "iopub.status.busy": "2025-07-06T06:23:55.457638Z",
     "iopub.status.idle": "2025-07-06T06:23:55.465030Z",
     "shell.execute_reply": "2025-07-06T06:23:55.464128Z"
    },
    "papermill": {
     "duration": 0.028647,
     "end_time": "2025-07-06T06:23:55.466447",
     "exception": false,
     "start_time": "2025-07-06T06:23:55.437800",
     "status": "completed"
    },
    "tags": []
   },
   "outputs": [
    {
     "data": {
      "text/plain": [
       "array([[0.56057477],\n",
       "       [0.6298566 ],\n",
       "       [0.6394259 ],\n",
       "       [0.61849463],\n",
       "       [0.6934129 ],\n",
       "       [0.86087275],\n",
       "       [0.60460424],\n",
       "       [0.6675186 ],\n",
       "       [0.8072778 ],\n",
       "       [0.80980015],\n",
       "       [0.75591445],\n",
       "       [0.7185137 ],\n",
       "       [0.9050952 ],\n",
       "       [0.5908751 ],\n",
       "       [0.7129848 ],\n",
       "       [0.8901874 ],\n",
       "       [0.8946004 ],\n",
       "       [0.79937863],\n",
       "       [0.7738793 ],\n",
       "       [0.6528208 ],\n",
       "       [0.7961718 ],\n",
       "       [0.7205198 ],\n",
       "       [0.5820141 ],\n",
       "       [0.7277297 ],\n",
       "       [0.7815249 ],\n",
       "       [0.8004929 ],\n",
       "       [0.8708453 ],\n",
       "       [0.91452897],\n",
       "       [0.6809429 ],\n",
       "       [0.8850815 ],\n",
       "       [0.633695  ],\n",
       "       [0.6474608 ],\n",
       "       [0.6644536 ],\n",
       "       [0.5941806 ],\n",
       "       [0.71944237],\n",
       "       [0.6112839 ],\n",
       "       [0.9005568 ],\n",
       "       [0.7523836 ],\n",
       "       [0.39380115],\n",
       "       [0.6295705 ],\n",
       "       [0.6050365 ],\n",
       "       [0.93510807],\n",
       "       [0.7097938 ],\n",
       "       [0.9218446 ],\n",
       "       [0.64057267],\n",
       "       [0.7609929 ],\n",
       "       [0.71265674],\n",
       "       [0.5628035 ],\n",
       "       [0.62329495],\n",
       "       [0.82878876],\n",
       "       [0.73236215],\n",
       "       [0.7298969 ],\n",
       "       [0.5047897 ],\n",
       "       [0.81148076],\n",
       "       [0.43888292],\n",
       "       [0.75621057],\n",
       "       [0.6407311 ],\n",
       "       [0.5519426 ],\n",
       "       [0.84762335],\n",
       "       [0.85373104],\n",
       "       [0.95512235],\n",
       "       [0.5323398 ],\n",
       "       [0.7482679 ],\n",
       "       [0.872476  ],\n",
       "       [0.8628832 ],\n",
       "       [0.5263298 ],\n",
       "       [0.5993502 ],\n",
       "       [0.8954824 ],\n",
       "       [0.6926087 ],\n",
       "       [0.91155946],\n",
       "       [0.51279616],\n",
       "       [0.64143133],\n",
       "       [0.6565623 ],\n",
       "       [0.52124476],\n",
       "       [0.7316015 ],\n",
       "       [0.9791076 ],\n",
       "       [0.79441524],\n",
       "       [0.9270148 ],\n",
       "       [0.7803049 ],\n",
       "       [0.7667326 ],\n",
       "       [0.909191  ],\n",
       "       [0.70283973],\n",
       "       [0.86240923],\n",
       "       [0.582813  ],\n",
       "       [0.92896295],\n",
       "       [0.78020144],\n",
       "       [0.7172996 ],\n",
       "       [0.8854406 ],\n",
       "       [0.63094294],\n",
       "       [0.6947477 ],\n",
       "       [0.73881483],\n",
       "       [0.876197  ],\n",
       "       [0.8541546 ],\n",
       "       [0.63529265],\n",
       "       [0.73503315],\n",
       "       [0.6961043 ],\n",
       "       [0.5046133 ],\n",
       "       [0.7354417 ],\n",
       "       [0.80418575],\n",
       "       [0.6080682 ]], dtype=float32)"
      ]
     },
     "execution_count": 17,
     "metadata": {},
     "output_type": "execute_result"
    }
   ],
   "source": [
    "y_pre"
   ]
  },
  {
   "cell_type": "code",
   "execution_count": 18,
   "id": "57c480c4",
   "metadata": {
    "execution": {
     "iopub.execute_input": "2025-07-06T06:23:55.505716Z",
     "iopub.status.busy": "2025-07-06T06:23:55.505437Z",
     "iopub.status.idle": "2025-07-06T06:23:55.512709Z",
     "shell.execute_reply": "2025-07-06T06:23:55.511830Z"
    },
    "papermill": {
     "duration": 0.028984,
     "end_time": "2025-07-06T06:23:55.514428",
     "exception": false,
     "start_time": "2025-07-06T06:23:55.485444",
     "status": "completed"
    },
    "tags": []
   },
   "outputs": [
    {
     "data": {
      "text/plain": [
       "0.7377123445904434"
      ]
     },
     "execution_count": 18,
     "metadata": {},
     "output_type": "execute_result"
    }
   ],
   "source": [
    "from sklearn.metrics import r2_score\n",
    "\n",
    "score = r2_score(y_test,y_pre)\n",
    "\n",
    "score"
   ]
  },
  {
   "cell_type": "code",
   "execution_count": 19,
   "id": "ac433084",
   "metadata": {
    "execution": {
     "iopub.execute_input": "2025-07-06T06:23:55.554993Z",
     "iopub.status.busy": "2025-07-06T06:23:55.554673Z",
     "iopub.status.idle": "2025-07-06T06:23:55.798310Z",
     "shell.execute_reply": "2025-07-06T06:23:55.797262Z"
    },
    "papermill": {
     "duration": 0.26549,
     "end_time": "2025-07-06T06:23:55.799961",
     "exception": false,
     "start_time": "2025-07-06T06:23:55.534471",
     "status": "completed"
    },
    "tags": []
   },
   "outputs": [
    {
     "data": {
      "text/plain": [
       "[<matplotlib.lines.Line2D at 0x7f91bc7a0b50>]"
      ]
     },
     "execution_count": 19,
     "metadata": {},
     "output_type": "execute_result"
    },
    {
     "data": {
      "image/png": "[encoded data removed]",
      "text/plain": [
       "<Figure size 640x480 with 1 Axes>"
      ]
     },
     "metadata": {},
     "output_type": "display_data"
    }
   ],
   "source": [
    "import  matplotlib.pyplot as plt \n",
    "\n",
    "plt.plot(history.history[\"r2_score\"])\n",
    "plt.plot(history.history[\"val_r2_score\"])"
   ]
  }
 ],
 "metadata": {
  "kaggle": {
   "accelerator": "none",
   "dataSources": [
    {
     "datasetId": 14872,
     "sourceId": 228180,
     "sourceType": "datasetVersion"
    }
   ],
   "dockerImageVersionId": 31040,
   "isGpuEnabled": false,
   "isInternetEnabled": true,
   "language": "python",
   "sourceType": "notebook"
  },
  "kernelspec": {
   "display_name": "Python 3",
   "language": "python",
   "name": "python3"
  },
  "language_info": {
   "codemirror_mode": {
    "name": "ipython",
    "version": 3
   },
   "file_extension": ".py",
   "mimetype": "text/x-python",
   "name": "python",
   "nbconvert_exporter": "python",
   "pygments_lexer": "ipython3",
   "version": "3.11.11"
  },
  "papermill": {
   "default_parameters": {},
   "duration": 46.292208,
   "end_time": "2025-07-06T06:23:58.515649",
   "environment_variables": {},
   "exception": null,
   "input_path": "__notebook__.ipynb",
   "output_path": "__notebook__.ipynb",
   "parameters": {},
   "start_time": "2025-07-06T06:23:12.223441",
   "version": "2.6.0"
  }
 },
 "nbformat": 4,
 "nbformat_minor": 5
}
